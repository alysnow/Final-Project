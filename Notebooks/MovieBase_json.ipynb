{
 "cells": [
  {
   "cell_type": "markdown",
   "id": "03ca2cf8",
   "metadata": {},
   "source": [
    "# MovieBase - JSON Conversion"
   ]
  },
  {
   "cell_type": "markdown",
   "id": "1a5cdc98",
   "metadata": {},
   "source": [
    "Converting all data to a JSON format to set up the data to be passed in an array of data to be used in the data.html table using DataTables (https://datatables.net/examples/data_sources/js_array.html)"
   ]
  },
  {
   "cell_type": "code",
   "execution_count": null,
   "id": "ec49df8b",
   "metadata": {},
   "outputs": [],
   "source": [
    "import matplotlib.pyplot as plt\n",
    "from sklearn.neighbors import KNeighborsClassifier\n",
    "import pandas as pd\n",
    "import numpy as np\n",
    "import os\n",
    "import csv\n",
    "import json"
   ]
  },
  {
   "cell_type": "code",
   "execution_count": null,
   "id": "4cc94475",
   "metadata": {},
   "outputs": [],
   "source": [
    "# Read the csv file into a pandas DataFrame\n",
    "# --------------------------------------------------------------\n",
    "# data = pd.read_csv(\"../Resources/data/IMDB-Movie-Data.csv\")\n",
    "data = pd.read_csv(\"../Resources/data/database_html.csv\")\n",
    "data.head()"
   ]
  },
  {
   "cell_type": "code",
   "execution_count": null,
   "id": "39a6eee9",
   "metadata": {},
   "outputs": [],
   "source": [
    "# Function to convert a CSV to JSON. Takes the file paths as arguments\n",
    "# --------------------------------------------------------------\n",
    "def make_json(csvFilePath, jsonFilePath):\n",
    "     \n",
    "    # create a dictionary\n",
    "    data = {}\n",
    "     \n",
    "    # Open a csv reader called DictReader\n",
    "    with open(csvFilePath, encoding='utf-8') as csvf:\n",
    "        csvReader = csv.DictReader(csvf)\n",
    "         \n",
    "        # Convert each row into a dictionary and adds it to data\n",
    "        for rows in csvReader:\n",
    "             \n",
    "            # Assuming a column named 'id' to be the primary key\n",
    "            key = rows['id']\n",
    "            data[key] = rows\n",
    " \n",
    "    # Open a json writer, and use the json.dumps() function to dump data\n",
    "    with open(jsonFilePath, 'w', encoding='utf-8') as jsonf:\n",
    "        jsonf.write(json.dumps(data, indent=4))\n",
    "         \n",
    "# Driver Code\n",
    "# --------------------------------------------------------------\n",
    "# Map out the file paths\n",
    "csvFilePath = r'../Resources/data/database_html.csv'\n",
    "jsonFilePath = r'../Resources/data/Names.json'\n",
    " \n",
    "# Call the make_json function\n",
    "make_json(csvFilePath, jsonFilePath)"
   ]
  },
  {
   "cell_type": "code",
   "execution_count": null,
   "id": "5d52e2b1",
   "metadata": {},
   "outputs": [],
   "source": [
    "csvfile = open('../Resources/data/database_html.csv, 'r')\n",
    "jsonfile = open('../Resources/data/Names2.json', 'w')\n",
    "\n",
    "fieldnames = ('id','imdb_id','belongs_to_collection','poster_path','original_title','title','genres', 'status',\n",
    "                              'release_date','release_year','runtime','cast', 'crew','spoken_languages',\n",
    "                              'popularity2', 'rating', 'totalVotes','budget','revenue')\n",
    "reader = csv.DictReader( csvfile, fieldnames)\n",
    "for row in reader:\n",
    "    json.dump(row, jsonfile)\n",
    "    jsonfile.write('\\n')"
   ]
  },
  {
   "cell_type": "code",
   "execution_count": null,
   "id": "f293c760",
   "metadata": {},
   "outputs": [],
   "source": [
    "df = data[['id','imdb_id','belongs_to_collection','poster_path','original_title','title','genres', 'status',\n",
    "                              'release_date','release_year','runtime','cast', 'crew','spoken_languages',\n",
    "                              'popularity2', 'rating', 'totalVotes','budget','revenue']]"
   ]
  },
  {
   "cell_type": "code",
   "execution_count": null,
   "id": "666be0c8",
   "metadata": {},
   "outputs": [],
   "source": [
    "data_html = df.to_numpy()"
   ]
  },
  {
   "cell_type": "code",
   "execution_count": null,
   "id": "ee37cdfb",
   "metadata": {},
   "outputs": [],
   "source": [
    "lists = data_html.tolist()\n",
    "json_str = json.dumps(lists)\n",
    "\n",
    "print(json_str)"
   ]
  }
 ],
 "metadata": {
  "kernelspec": {
   "display_name": "Python 3",
   "language": "python",
   "name": "python3"
  },
  "language_info": {
   "codemirror_mode": {
    "name": "ipython",
    "version": 3
   },
   "file_extension": ".py",
   "mimetype": "text/x-python",
   "name": "python",
   "nbconvert_exporter": "python",
   "pygments_lexer": "ipython3",
   "version": "3.6.10"
  }
 },
 "nbformat": 4,
 "nbformat_minor": 5
}
