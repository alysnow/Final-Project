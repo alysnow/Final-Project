{
 "cells": [
  {
   "cell_type": "markdown",
   "id": "03ca2cf8",
   "metadata": {},
   "source": [
    "# MovieBase - JSON Conversion"
   ]
  },
  {
   "cell_type": "markdown",
   "id": "1a5cdc98",
   "metadata": {},
   "source": [
    "Converting all data to a JSON format to set up the data to be passed in an array of data to be used in the data.html table using DataTables (https://datatables.net/examples/data_sources/js_array.html)"
   ]
  },
  {
   "cell_type": "code",
   "execution_count": 1,
   "id": "ec49df8b",
   "metadata": {},
   "outputs": [],
   "source": [
    "import matplotlib.pyplot as plt\n",
    "import pandas as pd\n",
    "import numpy as np\n",
    "import os\n",
    "import csv\n",
    "import json"
   ]
  },
  {
   "cell_type": "code",
   "execution_count": 2,
   "id": "4cc94475",
   "metadata": {},
   "outputs": [
    {
     "data": {
      "text/html": [
       "<div>\n",
       "<style scoped>\n",
       "    .dataframe tbody tr th:only-of-type {\n",
       "        vertical-align: middle;\n",
       "    }\n",
       "\n",
       "    .dataframe tbody tr th {\n",
       "        vertical-align: top;\n",
       "    }\n",
       "\n",
       "    .dataframe thead th {\n",
       "        text-align: right;\n",
       "    }\n",
       "</style>\n",
       "<table border=\"1\" class=\"dataframe\">\n",
       "  <thead>\n",
       "    <tr style=\"text-align: right;\">\n",
       "      <th></th>\n",
       "      <th>index</th>\n",
       "      <th>genres</th>\n",
       "      <th>movies_count</th>\n",
       "      <th>total_budget</th>\n",
       "      <th>median_budget</th>\n",
       "      <th>total_revenue</th>\n",
       "      <th>median_revenue</th>\n",
       "      <th>median_popularity</th>\n",
       "      <th>median_popularity2</th>\n",
       "      <th>median_rating</th>\n",
       "      <th>median_totalVotes</th>\n",
       "      <th>total_budget(million)</th>\n",
       "      <th>median_budget(million)</th>\n",
       "      <th>total_revenue(million)</th>\n",
       "      <th>median_revenue(million)</th>\n",
       "    </tr>\n",
       "  </thead>\n",
       "  <tbody>\n",
       "    <tr>\n",
       "      <th>0</th>\n",
       "      <td>7</td>\n",
       "      <td>Adventure</td>\n",
       "      <td>439</td>\n",
       "      <td>$23,738,161,039.00</td>\n",
       "      <td>$28,000,000.00</td>\n",
       "      <td>$77,180,369,998.00</td>\n",
       "      <td>$59,700,000.00</td>\n",
       "      <td>10</td>\n",
       "      <td>9</td>\n",
       "      <td>6</td>\n",
       "      <td>600</td>\n",
       "      <td>23738</td>\n",
       "      <td>28</td>\n",
       "      <td>77180</td>\n",
       "      <td>59</td>\n",
       "    </tr>\n",
       "    <tr>\n",
       "      <th>1</th>\n",
       "      <td>2</td>\n",
       "      <td>Family</td>\n",
       "      <td>260</td>\n",
       "      <td>$11,048,890,059.00</td>\n",
       "      <td>$24,500,000.00</td>\n",
       "      <td>$36,113,426,664.00</td>\n",
       "      <td>$57,470,029.50</td>\n",
       "      <td>8</td>\n",
       "      <td>8</td>\n",
       "      <td>6</td>\n",
       "      <td>456</td>\n",
       "      <td>11048</td>\n",
       "      <td>24</td>\n",
       "      <td>36113</td>\n",
       "      <td>57</td>\n",
       "    </tr>\n",
       "    <tr>\n",
       "      <th>2</th>\n",
       "      <td>15</td>\n",
       "      <td>Fantasy</td>\n",
       "      <td>232</td>\n",
       "      <td>$11,039,073,847.00</td>\n",
       "      <td>$25,000,000.00</td>\n",
       "      <td>$34,328,096,420.00</td>\n",
       "      <td>$49,813,196.00</td>\n",
       "      <td>9</td>\n",
       "      <td>9</td>\n",
       "      <td>6</td>\n",
       "      <td>585</td>\n",
       "      <td>11039</td>\n",
       "      <td>25</td>\n",
       "      <td>34328</td>\n",
       "      <td>49</td>\n",
       "    </tr>\n",
       "    <tr>\n",
       "      <th>3</th>\n",
       "      <td>19</td>\n",
       "      <td>TV Movie</td>\n",
       "      <td>1</td>\n",
       "      <td>$5,000,000.00</td>\n",
       "      <td>$5,000,000.00</td>\n",
       "      <td>$42,000,000.00</td>\n",
       "      <td>$42,000,000.00</td>\n",
       "      <td>5</td>\n",
       "      <td>6</td>\n",
       "      <td>6</td>\n",
       "      <td>102</td>\n",
       "      <td>5</td>\n",
       "      <td>5</td>\n",
       "      <td>42</td>\n",
       "      <td>42</td>\n",
       "    </tr>\n",
       "    <tr>\n",
       "      <th>4</th>\n",
       "      <td>5</td>\n",
       "      <td>Action</td>\n",
       "      <td>741</td>\n",
       "      <td>$29,934,126,656.00</td>\n",
       "      <td>$20,000,000.00</td>\n",
       "      <td>$82,283,193,867.00</td>\n",
       "      <td>$36,000,000.00</td>\n",
       "      <td>8</td>\n",
       "      <td>8</td>\n",
       "      <td>6</td>\n",
       "      <td>396</td>\n",
       "      <td>29934</td>\n",
       "      <td>20</td>\n",
       "      <td>82283</td>\n",
       "      <td>36</td>\n",
       "    </tr>\n",
       "  </tbody>\n",
       "</table>\n",
       "</div>"
      ],
      "text/plain": [
       "   index     genres  movies_count        total_budget   median_budget  \\\n",
       "0      7  Adventure           439  $23,738,161,039.00  $28,000,000.00   \n",
       "1      2     Family           260  $11,048,890,059.00  $24,500,000.00   \n",
       "2     15    Fantasy           232  $11,039,073,847.00  $25,000,000.00   \n",
       "3     19   TV Movie             1       $5,000,000.00   $5,000,000.00   \n",
       "4      5     Action           741  $29,934,126,656.00  $20,000,000.00   \n",
       "\n",
       "        total_revenue  median_revenue  median_popularity  median_popularity2  \\\n",
       "0  $77,180,369,998.00  $59,700,000.00                 10                   9   \n",
       "1  $36,113,426,664.00  $57,470,029.50                  8                   8   \n",
       "2  $34,328,096,420.00  $49,813,196.00                  9                   9   \n",
       "3      $42,000,000.00  $42,000,000.00                  5                   6   \n",
       "4  $82,283,193,867.00  $36,000,000.00                  8                   8   \n",
       "\n",
       "   median_rating  median_totalVotes  total_budget(million)  \\\n",
       "0              6                600                  23738   \n",
       "1              6                456                  11048   \n",
       "2              6                585                  11039   \n",
       "3              6                102                      5   \n",
       "4              6                396                  29934   \n",
       "\n",
       "   median_budget(million)  total_revenue(million)  median_revenue(million)  \n",
       "0                      28                   77180                       59  \n",
       "1                      24                   36113                       57  \n",
       "2                      25                   34328                       49  \n",
       "3                       5                      42                       42  \n",
       "4                      20                   82283                       36  "
      ]
     },
     "execution_count": 2,
     "metadata": {},
     "output_type": "execute_result"
    }
   ],
   "source": [
    "# Read the csv file into a pandas DataFrame\n",
    "# --------------------------------------------------------------\n",
    "# data = pd.read_csv(\"../Resources/data/IMDB-Movie-Data.csv\")\n",
    "data = pd.read_csv(\"../Resources/data/databaseGenre_html.csv\")\n",
    "data.head()"
   ]
  },
  {
   "cell_type": "code",
   "execution_count": 3,
   "id": "39a6eee9",
   "metadata": {},
   "outputs": [],
   "source": [
    "# Function to convert a CSV to JSON. Takes the file paths as arguments\n",
    "# --------------------------------------------------------------\n",
    "def make_json(csvFilePath, jsonFilePath):\n",
    "     \n",
    "    # create a dictionary\n",
    "    data = {}\n",
    "     \n",
    "    # Open a csv reader called DictReader\n",
    "    with open(csvFilePath, encoding='utf-8') as csvf:\n",
    "        csvReader = csv.DictReader(csvf)\n",
    "         \n",
    "        # Convert each row into a dictionary and adds it to data\n",
    "        for rows in csvReader:\n",
    "             \n",
    "            # Assuming a column named 'id' to be the primary key\n",
    "            key = rows['id']\n",
    "            data[key] = rows\n",
    " \n",
    "    # Open a json writer, and use the json.dumps() function to dump data\n",
    "    with open(jsonFilePath, 'w', encoding='utf-8') as jsonf:\n",
    "        jsonf.write(json.dumps(data, indent=4))\n",
    "         \n",
    "# Driver Code\n",
    "# --------------------------------------------------------------\n",
    "# Map out the file paths\n",
    "csvFilePath = r'../Resources/data/database_html.csv'\n",
    "jsonFilePath = r'../Resources/data/Names.json'\n",
    " \n",
    "# Call the make_json function\n",
    "make_json(csvFilePath, jsonFilePath)"
   ]
  },
  {
   "cell_type": "code",
   "execution_count": 4,
   "id": "5d52e2b1",
   "metadata": {},
   "outputs": [
    {
     "ename": "SyntaxError",
     "evalue": "EOL while scanning string literal (<ipython-input-4-b2c607c30914>, line 1)",
     "output_type": "error",
     "traceback": [
      "\u001b[1;36m  File \u001b[1;32m\"<ipython-input-4-b2c607c30914>\"\u001b[1;36m, line \u001b[1;32m1\u001b[0m\n\u001b[1;33m    csvfile = open('../Resources/data/database_html.csv, 'r')\u001b[0m\n\u001b[1;37m                                                             ^\u001b[0m\n\u001b[1;31mSyntaxError\u001b[0m\u001b[1;31m:\u001b[0m EOL while scanning string literal\n"
     ]
    }
   ],
   "source": [
    "csvfile = open('../Resources/data/database_html.csv, 'r')\n",
    "jsonfile = open('../Resources/data/Names2.json', 'w')\n",
    "\n",
    "fieldnames = ('id','imdb_id','belongs_to_collection','poster_path','original_title','title','genres', 'status',\n",
    "                              'release_date','release_year','runtime','cast', 'crew','spoken_languages',\n",
    "                              'popularity2', 'rating', 'totalVotes','budget','revenue')\n",
    "reader = csv.DictReader( csvfile, fieldnames)\n",
    "for row in reader:\n",
    "    json.dump(row, jsonfile)\n",
    "    jsonfile.write('\\n')"
   ]
  },
  {
   "cell_type": "code",
   "execution_count": 5,
   "id": "f293c760",
   "metadata": {},
   "outputs": [
    {
     "ename": "KeyError",
     "evalue": "\"['release_year', 'rating', 'cast', 'budget', 'id', 'imdb_id', 'belongs_to_collection', 'release_date', 'poster_path', 'title', 'runtime', 'crew', 'spoken_languages', 'totalVotes', 'status', 'original_title', 'revenue', 'popularity2'] not in index\"",
     "output_type": "error",
     "traceback": [
      "\u001b[1;31m---------------------------------------------------------------------------\u001b[0m",
      "\u001b[1;31mKeyError\u001b[0m                                  Traceback (most recent call last)",
      "\u001b[1;32m<ipython-input-5-c28808efa27c>\u001b[0m in \u001b[0;36m<module>\u001b[1;34m\u001b[0m\n\u001b[0;32m      1\u001b[0m df = data[['id','imdb_id','belongs_to_collection','poster_path','original_title','title','genres', 'status',\n\u001b[0;32m      2\u001b[0m                               \u001b[1;34m'release_date'\u001b[0m\u001b[1;33m,\u001b[0m\u001b[1;34m'release_year'\u001b[0m\u001b[1;33m,\u001b[0m\u001b[1;34m'runtime'\u001b[0m\u001b[1;33m,\u001b[0m\u001b[1;34m'cast'\u001b[0m\u001b[1;33m,\u001b[0m \u001b[1;34m'crew'\u001b[0m\u001b[1;33m,\u001b[0m\u001b[1;34m'spoken_languages'\u001b[0m\u001b[1;33m,\u001b[0m\u001b[1;33m\u001b[0m\u001b[1;33m\u001b[0m\u001b[0m\n\u001b[1;32m----> 3\u001b[1;33m                               'popularity2', 'rating', 'totalVotes','budget','revenue']]\n\u001b[0m",
      "\u001b[1;32mc:\\users\\alysh\\anaconda3\\envs\\pythondata\\lib\\site-packages\\pandas\\core\\frame.py\u001b[0m in \u001b[0;36m__getitem__\u001b[1;34m(self, key)\u001b[0m\n\u001b[0;32m   2804\u001b[0m             \u001b[1;32mif\u001b[0m \u001b[0mis_iterator\u001b[0m\u001b[1;33m(\u001b[0m\u001b[0mkey\u001b[0m\u001b[1;33m)\u001b[0m\u001b[1;33m:\u001b[0m\u001b[1;33m\u001b[0m\u001b[1;33m\u001b[0m\u001b[0m\n\u001b[0;32m   2805\u001b[0m                 \u001b[0mkey\u001b[0m \u001b[1;33m=\u001b[0m \u001b[0mlist\u001b[0m\u001b[1;33m(\u001b[0m\u001b[0mkey\u001b[0m\u001b[1;33m)\u001b[0m\u001b[1;33m\u001b[0m\u001b[1;33m\u001b[0m\u001b[0m\n\u001b[1;32m-> 2806\u001b[1;33m             \u001b[0mindexer\u001b[0m \u001b[1;33m=\u001b[0m \u001b[0mself\u001b[0m\u001b[1;33m.\u001b[0m\u001b[0mloc\u001b[0m\u001b[1;33m.\u001b[0m\u001b[0m_get_listlike_indexer\u001b[0m\u001b[1;33m(\u001b[0m\u001b[0mkey\u001b[0m\u001b[1;33m,\u001b[0m \u001b[0maxis\u001b[0m\u001b[1;33m=\u001b[0m\u001b[1;36m1\u001b[0m\u001b[1;33m,\u001b[0m \u001b[0mraise_missing\u001b[0m\u001b[1;33m=\u001b[0m\u001b[1;32mTrue\u001b[0m\u001b[1;33m)\u001b[0m\u001b[1;33m[\u001b[0m\u001b[1;36m1\u001b[0m\u001b[1;33m]\u001b[0m\u001b[1;33m\u001b[0m\u001b[1;33m\u001b[0m\u001b[0m\n\u001b[0m\u001b[0;32m   2807\u001b[0m \u001b[1;33m\u001b[0m\u001b[0m\n\u001b[0;32m   2808\u001b[0m         \u001b[1;31m# take() does not accept boolean indexers\u001b[0m\u001b[1;33m\u001b[0m\u001b[1;33m\u001b[0m\u001b[1;33m\u001b[0m\u001b[0m\n",
      "\u001b[1;32mc:\\users\\alysh\\anaconda3\\envs\\pythondata\\lib\\site-packages\\pandas\\core\\indexing.py\u001b[0m in \u001b[0;36m_get_listlike_indexer\u001b[1;34m(self, key, axis, raise_missing)\u001b[0m\n\u001b[0;32m   1551\u001b[0m \u001b[1;33m\u001b[0m\u001b[0m\n\u001b[0;32m   1552\u001b[0m         self._validate_read_indexer(\n\u001b[1;32m-> 1553\u001b[1;33m             \u001b[0mkeyarr\u001b[0m\u001b[1;33m,\u001b[0m \u001b[0mindexer\u001b[0m\u001b[1;33m,\u001b[0m \u001b[0mo\u001b[0m\u001b[1;33m.\u001b[0m\u001b[0m_get_axis_number\u001b[0m\u001b[1;33m(\u001b[0m\u001b[0maxis\u001b[0m\u001b[1;33m)\u001b[0m\u001b[1;33m,\u001b[0m \u001b[0mraise_missing\u001b[0m\u001b[1;33m=\u001b[0m\u001b[0mraise_missing\u001b[0m\u001b[1;33m\u001b[0m\u001b[1;33m\u001b[0m\u001b[0m\n\u001b[0m\u001b[0;32m   1554\u001b[0m         )\n\u001b[0;32m   1555\u001b[0m         \u001b[1;32mreturn\u001b[0m \u001b[0mkeyarr\u001b[0m\u001b[1;33m,\u001b[0m \u001b[0mindexer\u001b[0m\u001b[1;33m\u001b[0m\u001b[1;33m\u001b[0m\u001b[0m\n",
      "\u001b[1;32mc:\\users\\alysh\\anaconda3\\envs\\pythondata\\lib\\site-packages\\pandas\\core\\indexing.py\u001b[0m in \u001b[0;36m_validate_read_indexer\u001b[1;34m(self, key, indexer, axis, raise_missing)\u001b[0m\n\u001b[0;32m   1644\u001b[0m             \u001b[1;32mif\u001b[0m \u001b[1;32mnot\u001b[0m \u001b[1;33m(\u001b[0m\u001b[0mself\u001b[0m\u001b[1;33m.\u001b[0m\u001b[0mname\u001b[0m \u001b[1;33m==\u001b[0m \u001b[1;34m\"loc\"\u001b[0m \u001b[1;32mand\u001b[0m \u001b[1;32mnot\u001b[0m \u001b[0mraise_missing\u001b[0m\u001b[1;33m)\u001b[0m\u001b[1;33m:\u001b[0m\u001b[1;33m\u001b[0m\u001b[1;33m\u001b[0m\u001b[0m\n\u001b[0;32m   1645\u001b[0m                 \u001b[0mnot_found\u001b[0m \u001b[1;33m=\u001b[0m \u001b[0mlist\u001b[0m\u001b[1;33m(\u001b[0m\u001b[0mset\u001b[0m\u001b[1;33m(\u001b[0m\u001b[0mkey\u001b[0m\u001b[1;33m)\u001b[0m \u001b[1;33m-\u001b[0m \u001b[0mset\u001b[0m\u001b[1;33m(\u001b[0m\u001b[0max\u001b[0m\u001b[1;33m)\u001b[0m\u001b[1;33m)\u001b[0m\u001b[1;33m\u001b[0m\u001b[1;33m\u001b[0m\u001b[0m\n\u001b[1;32m-> 1646\u001b[1;33m                 \u001b[1;32mraise\u001b[0m \u001b[0mKeyError\u001b[0m\u001b[1;33m(\u001b[0m\u001b[1;34mf\"{not_found} not in index\"\u001b[0m\u001b[1;33m)\u001b[0m\u001b[1;33m\u001b[0m\u001b[1;33m\u001b[0m\u001b[0m\n\u001b[0m\u001b[0;32m   1647\u001b[0m \u001b[1;33m\u001b[0m\u001b[0m\n\u001b[0;32m   1648\u001b[0m             \u001b[1;31m# we skip the warning on Categorical/Interval\u001b[0m\u001b[1;33m\u001b[0m\u001b[1;33m\u001b[0m\u001b[1;33m\u001b[0m\u001b[0m\n",
      "\u001b[1;31mKeyError\u001b[0m: \"['release_year', 'rating', 'cast', 'budget', 'id', 'imdb_id', 'belongs_to_collection', 'release_date', 'poster_path', 'title', 'runtime', 'crew', 'spoken_languages', 'totalVotes', 'status', 'original_title', 'revenue', 'popularity2'] not in index\""
     ]
    }
   ],
   "source": [
    "# df = data[['id','imdb_id','belongs_to_collection','poster_path','original_title','title','genres', 'status',\n",
    "#                               'release_date','release_year','runtime','cast', 'crew','spoken_languages',\n",
    "#                               'popularity2', 'rating', 'totalVotes','budget','revenue']]"
   ]
  },
  {
   "cell_type": "code",
   "execution_count": 6,
   "id": "7fd4d389",
   "metadata": {},
   "outputs": [],
   "source": [
    "df = data[['index','genres','movies_count','total_budget','median_budget','total_revenue','median_revenue', 'median_popularity',\n",
    "                              'median_popularity2','median_rating','median_totalVotes','total_budget(million)', 'median_budget(million)',\n",
    "                               'total_revenue(million)','median_revenue(million)']]"
   ]
  },
  {
   "cell_type": "code",
   "execution_count": 7,
   "id": "666be0c8",
   "metadata": {},
   "outputs": [],
   "source": [
    "data_html = df.to_numpy()"
   ]
  },
  {
   "cell_type": "code",
   "execution_count": 8,
   "id": "ee37cdfb",
   "metadata": {},
   "outputs": [
    {
     "name": "stdout",
     "output_type": "stream",
     "text": [
      "[[7, \"Adventure\", 439, \"$23,738,161,039.00\", \"$28,000,000.00\", \"$77,180,369,998.00\", \"$59,700,000.00\", 10, 9, 6, 600, 23738, 28, 77180, 59], [2, \"Family\", 260, \"$11,048,890,059.00\", \"$24,500,000.00\", \"$36,113,426,664.00\", \"$57,470,029.50\", 8, 8, 6, 456, 11048, 24, 36113, 57], [15, \"Fantasy\", 232, \"$11,039,073,847.00\", \"$25,000,000.00\", \"$34,328,096,420.00\", \"$49,813,196.00\", 9, 9, 6, 585, 11039, 25, 34328, 49], [19, \"TV Movie\", 1, \"$5,000,000.00\", \"$5,000,000.00\", \"$42,000,000.00\", \"$42,000,000.00\", 5, 6, 6, 102, 5, 5, 42, 42], [5, \"Action\", 741, \"$29,934,126,656.00\", \"$20,000,000.00\", \"$82,283,193,867.00\", \"$36,000,000.00\", 8, 8, 6, 396, 29934, 20, 82283, 36], [6, \"Animation\", 141, \"$5,967,983,384.00\", \"$23,000,000.00\", \"$20,830,507,010.00\", \"$36,754,634.00\", 9, 9, 7, 491, 5967, 23, 20830, 36], [12, \"Science Fiction\", 290, \"$12,701,705,758.00\", \"$20,000,000.00\", \"$35,486,481,131.00\", \"$35,109,301.50\", 9, 8, 6, 512, 12701, 20, 35486, 35], [11, \"Crime\", 469, \"$11,128,971,302.00\", \"$12,600,000.00\", \"$27,901,408,828.00\", \"$24,048,000.00\", 8, 8, 6, 396, 11128, 12, 27901, 24], [4, \"Thriller\", 789, \"$20,873,192,826.00\", \"$13,000,000.00\", \"$53,917,610,066.00\", \"$21,890,845.00\", 8, 8, 6, 425, 20873, 13, 53917, 21], [13, \"Mystery\", 225, \"$5,049,606,001.00\", \"$10,000,000.00\", \"$13,417,641,845.00\", \"$21,133,087.00\", 9, 9, 6, 422, 5049, 10, 13417, 21], [0, \"Comedy\", 1028, \"$19,614,445,621.00\", \"$8,000,000.00\", \"$62,580,263,721.00\", \"$18,809,184.00\", 7, 7, 6, 233, 19614, 8, 62580, 18], [8, \"Horror\", 301, \"$4,578,070,363.00\", \"$6,000,000.00\", \"$15,865,430,318.00\", \"$17,037,887.00\", 8, 8, 6, 330, 4578, 6, 15865, 17], [16, \"War\", 100, \"$2,673,133,410.00\", \"$12,578,174.00\", \"$4,991,586,809.00\", \"$15,007,337.00\", 8, 7, 7, 258, 2673, 12, 4991, 15], [18, \"History\", 132, \"$2,997,539,637.00\", \"$12,000,000.00\", \"$5,070,546,615.00\", \"$15,436,943.50\", 8, 7, 7, 194, 2997, 12, 5070, 15], [3, \"Romance\", 571, \"$8,944,336,886.00\", \"$5,500,000.00\", \"$30,094,559,216.00\", \"$14,016,568.00\", 6, 7, 6, 155, 8944, 5, 30094, 14], [10, \"Music\", 100, \"$1,315,399,141.00\", \"$6,000,000.00\", \"$4,287,089,768.00\", \"$14,025,692.00\", 6, 6, 7, 111, 1315, 6, 4287, 14], [1, \"Drama\", 1531, \"$25,733,940,425.00\", \"$6,000,000.00\", \"$69,516,699,191.00\", \"$11,293,663.00\", 7, 7, 7, 206, 25733, 6, 69516, 11], [17, \"Western\", 43, \"$819,744,461.00\", \"$3,800,000.00\", \"$2,208,937,320.00\", \"$9,000,000.00\", 8, 7, 7, 206, 819, 3, 2208, 9], [9, \"Documentary\", 87, \"$76,787,594.00\", \"$0.00\", \"$403,506,794.00\", \"$268,431.00\", 2, 2, 7, 31, 76, 0, 403, 0], [14, \"Foreign\", 31, \"$40,334,367.00\", \"$0.00\", \"$58,100,126.00\", \"$170,000.00\", 1, 1, 5, 13, 40, 0, 58, 0]]\n"
     ]
    }
   ],
   "source": [
    "lists = data_html.tolist()\n",
    "json_str = json.dumps(lists)\n",
    "\n",
    "print(json_str)"
   ]
  }
 ],
 "metadata": {
  "kernelspec": {
   "display_name": "Python 3",
   "language": "python",
   "name": "python3"
  },
  "language_info": {
   "codemirror_mode": {
    "name": "ipython",
    "version": 3
   },
   "file_extension": ".py",
   "mimetype": "text/x-python",
   "name": "python",
   "nbconvert_exporter": "python",
   "pygments_lexer": "ipython3",
   "version": "3.6.10"
  }
 },
 "nbformat": 4,
 "nbformat_minor": 5
}
