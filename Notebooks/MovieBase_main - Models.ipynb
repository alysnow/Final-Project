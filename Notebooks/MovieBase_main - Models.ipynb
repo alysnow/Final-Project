{
 "cells": [
  {
   "cell_type": "code",
   "execution_count": 1,
   "metadata": {
    "execution": {
     "iopub.execute_input": "2021-01-28T18:24:37.909929Z",
     "iopub.status.busy": "2021-01-28T18:24:37.909143Z",
     "iopub.status.idle": "2021-01-28T18:24:39.121671Z",
     "shell.execute_reply": "2021-01-28T18:24:39.120950Z"
    },
    "papermill": {
     "duration": 1.286269,
     "end_time": "2021-01-28T18:24:39.121791",
     "exception": false,
     "start_time": "2021-01-28T18:24:37.835522",
     "status": "completed"
    },
    "tags": []
   },
   "outputs": [],
   "source": [
    "import numpy as np\n",
    "import pandas as pd\n",
    "# import plotly.express as px\n",
    "# import plotly.offline as py\n",
    "# import plotly.graph_objs as go\n",
    "# import plotly.tools as tls\n",
    "# %matplotlib inline\n",
    "import matplotlib.pyplot as plt\n",
    "import seaborn as sns\n",
    "# pd.set_option('display.max_columns', None)\n",
    "# pd.set_option('display.max_rows', None)\n",
    "# import warnings\n",
    "# warnings.filterwarnings(\"ignore\")\n",
    "# import ast\n",
    "# from wordcloud import WordCloud\n",
    "# from collections import Counter"
   ]
  },
  {
   "cell_type": "markdown",
   "metadata": {},
   "source": [
    "## Data"
   ]
  },
  {
   "cell_type": "code",
   "execution_count": 2,
   "metadata": {
    "execution": {
     "iopub.execute_input": "2021-01-28T18:24:39.257562Z",
     "iopub.status.busy": "2021-01-28T18:24:39.256890Z",
     "iopub.status.idle": "2021-01-28T18:24:39.981093Z",
     "shell.execute_reply": "2021-01-28T18:24:39.980422Z"
    },
    "papermill": {
     "duration": 0.796678,
     "end_time": "2021-01-28T18:24:39.981223",
     "exception": false,
     "start_time": "2021-01-28T18:24:39.184545",
     "status": "completed"
    },
    "tags": []
   },
   "outputs": [
    {
     "name": "stdout",
     "output_type": "stream",
     "text": [
      "(3000, 70)\n"
     ]
    }
   ],
   "source": [
    "# Read the csv file into a pandas DataFrame and display count of columns and rows\n",
    "# --------------------------------------------------------------------------------\n",
    "model_data = pd.read_csv(\"../Resources/data/model_data.csv\")\n",
    "print(model_data.shape)"
   ]
  },
  {
   "cell_type": "markdown",
   "metadata": {},
   "source": [
    "Note: Pandas dataframe.skew() function returns unbiased skew over requested axis Normalized by N-1. Skewness is a measure of the asymmetry of the probability distribution of a real-valued random variable about its mean."
   ]
  },
  {
   "cell_type": "code",
   "execution_count": 3,
   "metadata": {},
   "outputs": [
    {
     "data": {
      "text/html": [
       "<div>\n",
       "<style scoped>\n",
       "    .dataframe tbody tr th:only-of-type {\n",
       "        vertical-align: middle;\n",
       "    }\n",
       "\n",
       "    .dataframe tbody tr th {\n",
       "        vertical-align: top;\n",
       "    }\n",
       "\n",
       "    .dataframe thead th {\n",
       "        text-align: right;\n",
       "    }\n",
       "</style>\n",
       "<table border=\"1\" class=\"dataframe\">\n",
       "  <thead>\n",
       "    <tr style=\"text-align: right;\">\n",
       "      <th></th>\n",
       "      <th>0</th>\n",
       "    </tr>\n",
       "  </thead>\n",
       "  <tbody>\n",
       "    <tr>\n",
       "      <th>TV Movie</th>\n",
       "      <td>54.772256</td>\n",
       "    </tr>\n",
       "    <tr>\n",
       "      <th>popularity</th>\n",
       "      <td>14.377407</td>\n",
       "    </tr>\n",
       "    <tr>\n",
       "      <th>Foreign</th>\n",
       "      <td>9.689092</td>\n",
       "    </tr>\n",
       "    <tr>\n",
       "      <th>Western</th>\n",
       "      <td>8.176113</td>\n",
       "    </tr>\n",
       "    <tr>\n",
       "      <th>keyword_dystopia</th>\n",
       "      <td>6.177296</td>\n",
       "    </tr>\n",
       "    <tr>\n",
       "      <th>keyword_aftercreditsstinger</th>\n",
       "      <td>6.087914</td>\n",
       "    </tr>\n",
       "    <tr>\n",
       "      <th>keyword_biography</th>\n",
       "      <td>5.919186</td>\n",
       "    </tr>\n",
       "    <tr>\n",
       "      <th>Documentary</th>\n",
       "      <td>5.616419</td>\n",
       "    </tr>\n",
       "    <tr>\n",
       "      <th>keyword_violence</th>\n",
       "      <td>5.290485</td>\n",
       "    </tr>\n",
       "    <tr>\n",
       "      <th>War</th>\n",
       "      <td>5.202071</td>\n",
       "    </tr>\n",
       "  </tbody>\n",
       "</table>\n",
       "</div>"
      ],
      "text/plain": [
       "                                     0\n",
       "TV Movie                     54.772256\n",
       "popularity                   14.377407\n",
       "Foreign                       9.689092\n",
       "Western                       8.176113\n",
       "keyword_dystopia              6.177296\n",
       "keyword_aftercreditsstinger   6.087914\n",
       "keyword_biography             5.919186\n",
       "Documentary                   5.616419\n",
       "keyword_violence              5.290485\n",
       "War                           5.202071"
      ]
     },
     "execution_count": 3,
     "metadata": {},
     "output_type": "execute_result"
    }
   ],
   "source": [
    "# Apply the pandas `.skew()` function to find skewness of the dataframe. \n",
    "# --------------------------------------------------------------------------------\n",
    "pd.DataFrame(model_data.skew().sort_values(ascending=False)).head(10)"
   ]
  },
  {
   "cell_type": "markdown",
   "metadata": {
    "papermill": {
     "duration": 0.067322,
     "end_time": "2021-01-28T18:24:40.120345",
     "exception": false,
     "start_time": "2021-01-28T18:24:40.053023",
     "status": "completed"
    },
    "tags": []
   },
   "source": [
    "## Data Exploration"
   ]
  },
  {
   "cell_type": "code",
   "execution_count": 4,
   "metadata": {
    "execution": {
     "iopub.execute_input": "2021-01-28T18:24:40.410314Z",
     "iopub.status.busy": "2021-01-28T18:24:40.400179Z",
     "iopub.status.idle": "2021-01-28T18:24:40.414932Z",
     "shell.execute_reply": "2021-01-28T18:24:40.414302Z"
    },
    "papermill": {
     "duration": 0.091771,
     "end_time": "2021-01-28T18:24:40.415059",
     "exception": false,
     "start_time": "2021-01-28T18:24:40.323288",
     "status": "completed"
    },
    "tags": []
   },
   "outputs": [
    {
     "name": "stdout",
     "output_type": "stream",
     "text": [
      "<class 'pandas.core.frame.DataFrame'>\n",
      "RangeIndex: 3000 entries, 0 to 2999\n",
      "Data columns (total 70 columns):\n",
      " #   Column                        Non-Null Count  Dtype  \n",
      "---  ------                        --------------  -----  \n",
      " 0   id                            3000 non-null   int64  \n",
      " 1   belongs_to_collection         604 non-null    object \n",
      " 2   budget                        3000 non-null   int64  \n",
      " 3   genres                        3000 non-null   object \n",
      " 4   homepage                      946 non-null    object \n",
      " 5   imdb_id                       3000 non-null   object \n",
      " 6   original_language             3000 non-null   object \n",
      " 7   original_title                3000 non-null   object \n",
      " 8   overview                      2992 non-null   object \n",
      " 9   popularity                    3000 non-null   float64\n",
      " 10  poster_path                   2999 non-null   object \n",
      " 11  production_companies          3000 non-null   object \n",
      " 12  production_countries          3000 non-null   object \n",
      " 13  release_date                  3000 non-null   object \n",
      " 14  runtime                       3000 non-null   float64\n",
      " 15  spoken_languages              3000 non-null   object \n",
      " 16  status                        3000 non-null   object \n",
      " 17  tagline                       2403 non-null   object \n",
      " 18  title                         3000 non-null   object \n",
      " 19  Keywords                      3000 non-null   object \n",
      " 20  cast                          3000 non-null   object \n",
      " 21  crew                          3000 non-null   object \n",
      " 22  revenue                       3000 non-null   int64  \n",
      " 23  popularity2                   3000 non-null   float64\n",
      " 24  rating                        3000 non-null   float64\n",
      " 25  totalVotes                    3000 non-null   float64\n",
      " 26  sequel                        3000 non-null   int64  \n",
      " 27  release_year                  3000 non-null   int64  \n",
      " 28  release_month                 3000 non-null   int64  \n",
      " 29  release_day                   3000 non-null   int64  \n",
      " 30  release_dayofweek             3000 non-null   int64  \n",
      " 31  num_of_keywords               3000 non-null   int64  \n",
      " 32  all_keywords                  2724 non-null   object \n",
      " 33  keyword_woman director        3000 non-null   int64  \n",
      " 34  keyword_independent film      3000 non-null   int64  \n",
      " 35  keyword_duringcreditsstinger  3000 non-null   int64  \n",
      " 36  keyword_murder                3000 non-null   int64  \n",
      " 37  keyword_based on novel        3000 non-null   int64  \n",
      " 38  keyword_violence              3000 non-null   int64  \n",
      " 39  keyword_sport                 3000 non-null   int64  \n",
      " 40  keyword_biography             3000 non-null   int64  \n",
      " 41  keyword_aftercreditsstinger   3000 non-null   int64  \n",
      " 42  keyword_dystopia              3000 non-null   int64  \n",
      " 43  num_of_languages              3000 non-null   int64  \n",
      " 44  all_languages                 2974 non-null   object \n",
      " 45  language_English              3000 non-null   int64  \n",
      " 46  language_Français             3000 non-null   int64  \n",
      " 47  language_Español              3000 non-null   int64  \n",
      " 48  language_Deutsch              3000 non-null   int64  \n",
      " 49  language_Pусский              3000 non-null   int64  \n",
      " 50  Comedy                        3000 non-null   int64  \n",
      " 51  Drama                         3000 non-null   int64  \n",
      " 52  Family                        3000 non-null   int64  \n",
      " 53  Romance                       3000 non-null   int64  \n",
      " 54  Thriller                      3000 non-null   int64  \n",
      " 55  Action                        3000 non-null   int64  \n",
      " 56  Animation                     3000 non-null   int64  \n",
      " 57  Adventure                     3000 non-null   int64  \n",
      " 58  Horror                        3000 non-null   int64  \n",
      " 59  Documentary                   3000 non-null   int64  \n",
      " 60  Music                         3000 non-null   int64  \n",
      " 61  Crime                         3000 non-null   int64  \n",
      " 62  Science Fiction               3000 non-null   int64  \n",
      " 63  Mystery                       3000 non-null   int64  \n",
      " 64  Foreign                       3000 non-null   int64  \n",
      " 65  Fantasy                       3000 non-null   int64  \n",
      " 66  War                           3000 non-null   int64  \n",
      " 67  Western                       3000 non-null   int64  \n",
      " 68  History                       3000 non-null   int64  \n",
      " 69  TV Movie                      3000 non-null   int64  \n",
      "dtypes: float64(5), int64(45), object(20)\n",
      "memory usage: 1.6+ MB\n"
     ]
    }
   ],
   "source": [
    "model_data.info()"
   ]
  },
  {
   "cell_type": "code",
   "execution_count": 5,
   "metadata": {
    "execution": {
     "iopub.execute_input": "2021-01-28T18:24:40.558842Z",
     "iopub.status.busy": "2021-01-28T18:24:40.558171Z",
     "iopub.status.idle": "2021-01-28T18:24:40.564975Z",
     "shell.execute_reply": "2021-01-28T18:24:40.564326Z"
    },
    "papermill": {
     "duration": 0.084073,
     "end_time": "2021-01-28T18:24:40.565093",
     "exception": false,
     "start_time": "2021-01-28T18:24:40.481020",
     "status": "completed"
    },
    "tags": []
   },
   "outputs": [
    {
     "data": {
      "text/plain": [
       "id                          0\n",
       "belongs_to_collection    2396\n",
       "budget                      0\n",
       "genres                      0\n",
       "homepage                 2054\n",
       "                         ... \n",
       "Fantasy                     0\n",
       "War                         0\n",
       "Western                     0\n",
       "History                     0\n",
       "TV Movie                    0\n",
       "Length: 70, dtype: int64"
      ]
     },
     "execution_count": 5,
     "metadata": {},
     "output_type": "execute_result"
    }
   ],
   "source": [
    "model_data.isna().sum()"
   ]
  },
  {
   "cell_type": "code",
   "execution_count": 6,
   "metadata": {
    "execution": {
     "iopub.execute_input": "2021-01-28T18:24:42.299372Z",
     "iopub.status.busy": "2021-01-28T18:24:42.298637Z",
     "iopub.status.idle": "2021-01-28T18:24:42.344054Z",
     "shell.execute_reply": "2021-01-28T18:24:42.343419Z"
    },
    "papermill": {
     "duration": 0.123006,
     "end_time": "2021-01-28T18:24:42.344194",
     "exception": false,
     "start_time": "2021-01-28T18:24:42.221188",
     "status": "completed"
    },
    "tags": []
   },
   "outputs": [
    {
     "data": {
      "text/html": [
       "<div>\n",
       "<style scoped>\n",
       "    .dataframe tbody tr th:only-of-type {\n",
       "        vertical-align: middle;\n",
       "    }\n",
       "\n",
       "    .dataframe tbody tr th {\n",
       "        vertical-align: top;\n",
       "    }\n",
       "\n",
       "    .dataframe thead th {\n",
       "        text-align: right;\n",
       "    }\n",
       "</style>\n",
       "<table border=\"1\" class=\"dataframe\">\n",
       "  <thead>\n",
       "    <tr style=\"text-align: right;\">\n",
       "      <th></th>\n",
       "      <th>id</th>\n",
       "      <th>budget</th>\n",
       "      <th>popularity</th>\n",
       "      <th>runtime</th>\n",
       "      <th>revenue</th>\n",
       "      <th>popularity2</th>\n",
       "      <th>rating</th>\n",
       "      <th>totalVotes</th>\n",
       "      <th>sequel</th>\n",
       "      <th>release_year</th>\n",
       "      <th>...</th>\n",
       "      <th>Music</th>\n",
       "      <th>Crime</th>\n",
       "      <th>Science Fiction</th>\n",
       "      <th>Mystery</th>\n",
       "      <th>Foreign</th>\n",
       "      <th>Fantasy</th>\n",
       "      <th>War</th>\n",
       "      <th>Western</th>\n",
       "      <th>History</th>\n",
       "      <th>TV Movie</th>\n",
       "    </tr>\n",
       "  </thead>\n",
       "  <tbody>\n",
       "    <tr>\n",
       "      <th>count</th>\n",
       "      <td>3000.000000</td>\n",
       "      <td>3.000000e+03</td>\n",
       "      <td>3000.000000</td>\n",
       "      <td>3000.000000</td>\n",
       "      <td>3.000000e+03</td>\n",
       "      <td>3000.000000</td>\n",
       "      <td>3000.000000</td>\n",
       "      <td>3000.000000</td>\n",
       "      <td>3000.000000</td>\n",
       "      <td>3000.000000</td>\n",
       "      <td>...</td>\n",
       "      <td>3000.000000</td>\n",
       "      <td>3000.000000</td>\n",
       "      <td>3000.000000</td>\n",
       "      <td>3000.000000</td>\n",
       "      <td>3000.000000</td>\n",
       "      <td>3000.000000</td>\n",
       "      <td>3000.000000</td>\n",
       "      <td>3000.000000</td>\n",
       "      <td>3000.000000</td>\n",
       "      <td>3000.000000</td>\n",
       "    </tr>\n",
       "    <tr>\n",
       "      <th>mean</th>\n",
       "      <td>1500.500000</td>\n",
       "      <td>2.253133e+07</td>\n",
       "      <td>8.463274</td>\n",
       "      <td>107.854000</td>\n",
       "      <td>6.672585e+07</td>\n",
       "      <td>7.713484</td>\n",
       "      <td>6.115900</td>\n",
       "      <td>897.203667</td>\n",
       "      <td>0.201333</td>\n",
       "      <td>1999.713000</td>\n",
       "      <td>...</td>\n",
       "      <td>0.033333</td>\n",
       "      <td>0.156333</td>\n",
       "      <td>0.096667</td>\n",
       "      <td>0.075000</td>\n",
       "      <td>0.010333</td>\n",
       "      <td>0.077333</td>\n",
       "      <td>0.033333</td>\n",
       "      <td>0.014333</td>\n",
       "      <td>0.044000</td>\n",
       "      <td>0.000333</td>\n",
       "    </tr>\n",
       "    <tr>\n",
       "      <th>std</th>\n",
       "      <td>866.169729</td>\n",
       "      <td>3.702609e+07</td>\n",
       "      <td>12.104000</td>\n",
       "      <td>22.079293</td>\n",
       "      <td>1.375323e+08</td>\n",
       "      <td>5.105137</td>\n",
       "      <td>1.512808</td>\n",
       "      <td>1768.776157</td>\n",
       "      <td>0.401063</td>\n",
       "      <td>15.423313</td>\n",
       "      <td>...</td>\n",
       "      <td>0.179535</td>\n",
       "      <td>0.363232</td>\n",
       "      <td>0.295553</td>\n",
       "      <td>0.263435</td>\n",
       "      <td>0.101143</td>\n",
       "      <td>0.267164</td>\n",
       "      <td>0.179535</td>\n",
       "      <td>0.118881</td>\n",
       "      <td>0.205129</td>\n",
       "      <td>0.018257</td>\n",
       "    </tr>\n",
       "    <tr>\n",
       "      <th>min</th>\n",
       "      <td>1.000000</td>\n",
       "      <td>0.000000e+00</td>\n",
       "      <td>0.000001</td>\n",
       "      <td>0.000000</td>\n",
       "      <td>1.000000e+00</td>\n",
       "      <td>0.000000</td>\n",
       "      <td>0.000000</td>\n",
       "      <td>0.000000</td>\n",
       "      <td>0.000000</td>\n",
       "      <td>1921.000000</td>\n",
       "      <td>...</td>\n",
       "      <td>0.000000</td>\n",
       "      <td>0.000000</td>\n",
       "      <td>0.000000</td>\n",
       "      <td>0.000000</td>\n",
       "      <td>0.000000</td>\n",
       "      <td>0.000000</td>\n",
       "      <td>0.000000</td>\n",
       "      <td>0.000000</td>\n",
       "      <td>0.000000</td>\n",
       "      <td>0.000000</td>\n",
       "    </tr>\n",
       "    <tr>\n",
       "      <th>25%</th>\n",
       "      <td>750.750000</td>\n",
       "      <td>0.000000e+00</td>\n",
       "      <td>4.018053</td>\n",
       "      <td>94.000000</td>\n",
       "      <td>2.379808e+06</td>\n",
       "      <td>4.564250</td>\n",
       "      <td>5.800000</td>\n",
       "      <td>65.000000</td>\n",
       "      <td>0.000000</td>\n",
       "      <td>1993.000000</td>\n",
       "      <td>...</td>\n",
       "      <td>0.000000</td>\n",
       "      <td>0.000000</td>\n",
       "      <td>0.000000</td>\n",
       "      <td>0.000000</td>\n",
       "      <td>0.000000</td>\n",
       "      <td>0.000000</td>\n",
       "      <td>0.000000</td>\n",
       "      <td>0.000000</td>\n",
       "      <td>0.000000</td>\n",
       "      <td>0.000000</td>\n",
       "    </tr>\n",
       "    <tr>\n",
       "      <th>50%</th>\n",
       "      <td>1500.500000</td>\n",
       "      <td>8.000000e+06</td>\n",
       "      <td>7.374861</td>\n",
       "      <td>104.000000</td>\n",
       "      <td>1.680707e+07</td>\n",
       "      <td>7.271000</td>\n",
       "      <td>6.400000</td>\n",
       "      <td>263.000000</td>\n",
       "      <td>0.000000</td>\n",
       "      <td>2004.000000</td>\n",
       "      <td>...</td>\n",
       "      <td>0.000000</td>\n",
       "      <td>0.000000</td>\n",
       "      <td>0.000000</td>\n",
       "      <td>0.000000</td>\n",
       "      <td>0.000000</td>\n",
       "      <td>0.000000</td>\n",
       "      <td>0.000000</td>\n",
       "      <td>0.000000</td>\n",
       "      <td>0.000000</td>\n",
       "      <td>0.000000</td>\n",
       "    </tr>\n",
       "    <tr>\n",
       "      <th>75%</th>\n",
       "      <td>2250.250000</td>\n",
       "      <td>2.900000e+07</td>\n",
       "      <td>10.890983</td>\n",
       "      <td>118.000000</td>\n",
       "      <td>6.891920e+07</td>\n",
       "      <td>9.857500</td>\n",
       "      <td>7.000000</td>\n",
       "      <td>852.250000</td>\n",
       "      <td>0.000000</td>\n",
       "      <td>2011.000000</td>\n",
       "      <td>...</td>\n",
       "      <td>0.000000</td>\n",
       "      <td>0.000000</td>\n",
       "      <td>0.000000</td>\n",
       "      <td>0.000000</td>\n",
       "      <td>0.000000</td>\n",
       "      <td>0.000000</td>\n",
       "      <td>0.000000</td>\n",
       "      <td>0.000000</td>\n",
       "      <td>0.000000</td>\n",
       "      <td>0.000000</td>\n",
       "    </tr>\n",
       "    <tr>\n",
       "      <th>max</th>\n",
       "      <td>3000.000000</td>\n",
       "      <td>3.800000e+08</td>\n",
       "      <td>294.337037</td>\n",
       "      <td>338.000000</td>\n",
       "      <td>1.519558e+09</td>\n",
       "      <td>45.153000</td>\n",
       "      <td>9.000000</td>\n",
       "      <td>18931.000000</td>\n",
       "      <td>1.000000</td>\n",
       "      <td>2017.000000</td>\n",
       "      <td>...</td>\n",
       "      <td>1.000000</td>\n",
       "      <td>1.000000</td>\n",
       "      <td>1.000000</td>\n",
       "      <td>1.000000</td>\n",
       "      <td>1.000000</td>\n",
       "      <td>1.000000</td>\n",
       "      <td>1.000000</td>\n",
       "      <td>1.000000</td>\n",
       "      <td>1.000000</td>\n",
       "      <td>1.000000</td>\n",
       "    </tr>\n",
       "  </tbody>\n",
       "</table>\n",
       "<p>8 rows × 50 columns</p>\n",
       "</div>"
      ],
      "text/plain": [
       "                id        budget   popularity      runtime       revenue  \\\n",
       "count  3000.000000  3.000000e+03  3000.000000  3000.000000  3.000000e+03   \n",
       "mean   1500.500000  2.253133e+07     8.463274   107.854000  6.672585e+07   \n",
       "std     866.169729  3.702609e+07    12.104000    22.079293  1.375323e+08   \n",
       "min       1.000000  0.000000e+00     0.000001     0.000000  1.000000e+00   \n",
       "25%     750.750000  0.000000e+00     4.018053    94.000000  2.379808e+06   \n",
       "50%    1500.500000  8.000000e+06     7.374861   104.000000  1.680707e+07   \n",
       "75%    2250.250000  2.900000e+07    10.890983   118.000000  6.891920e+07   \n",
       "max    3000.000000  3.800000e+08   294.337037   338.000000  1.519558e+09   \n",
       "\n",
       "       popularity2       rating    totalVotes       sequel  release_year  ...  \\\n",
       "count  3000.000000  3000.000000   3000.000000  3000.000000   3000.000000  ...   \n",
       "mean      7.713484     6.115900    897.203667     0.201333   1999.713000  ...   \n",
       "std       5.105137     1.512808   1768.776157     0.401063     15.423313  ...   \n",
       "min       0.000000     0.000000      0.000000     0.000000   1921.000000  ...   \n",
       "25%       4.564250     5.800000     65.000000     0.000000   1993.000000  ...   \n",
       "50%       7.271000     6.400000    263.000000     0.000000   2004.000000  ...   \n",
       "75%       9.857500     7.000000    852.250000     0.000000   2011.000000  ...   \n",
       "max      45.153000     9.000000  18931.000000     1.000000   2017.000000  ...   \n",
       "\n",
       "             Music        Crime  Science Fiction      Mystery      Foreign  \\\n",
       "count  3000.000000  3000.000000      3000.000000  3000.000000  3000.000000   \n",
       "mean      0.033333     0.156333         0.096667     0.075000     0.010333   \n",
       "std       0.179535     0.363232         0.295553     0.263435     0.101143   \n",
       "min       0.000000     0.000000         0.000000     0.000000     0.000000   \n",
       "25%       0.000000     0.000000         0.000000     0.000000     0.000000   \n",
       "50%       0.000000     0.000000         0.000000     0.000000     0.000000   \n",
       "75%       0.000000     0.000000         0.000000     0.000000     0.000000   \n",
       "max       1.000000     1.000000         1.000000     1.000000     1.000000   \n",
       "\n",
       "           Fantasy          War      Western      History     TV Movie  \n",
       "count  3000.000000  3000.000000  3000.000000  3000.000000  3000.000000  \n",
       "mean      0.077333     0.033333     0.014333     0.044000     0.000333  \n",
       "std       0.267164     0.179535     0.118881     0.205129     0.018257  \n",
       "min       0.000000     0.000000     0.000000     0.000000     0.000000  \n",
       "25%       0.000000     0.000000     0.000000     0.000000     0.000000  \n",
       "50%       0.000000     0.000000     0.000000     0.000000     0.000000  \n",
       "75%       0.000000     0.000000     0.000000     0.000000     0.000000  \n",
       "max       1.000000     1.000000     1.000000     1.000000     1.000000  \n",
       "\n",
       "[8 rows x 50 columns]"
      ]
     },
     "execution_count": 6,
     "metadata": {},
     "output_type": "execute_result"
    }
   ],
   "source": [
    "model_data.describe()"
   ]
  },
  {
   "cell_type": "markdown",
   "metadata": {},
   "source": [
    "## Histogram"
   ]
  },
  {
   "cell_type": "code",
   "execution_count": 7,
   "metadata": {
    "execution": {
     "iopub.execute_input": "2021-01-28T18:24:49.803071Z",
     "iopub.status.busy": "2021-01-28T18:24:49.802289Z",
     "iopub.status.idle": "2021-01-28T18:24:51.549234Z",
     "shell.execute_reply": "2021-01-28T18:24:51.549809Z"
    },
    "papermill": {
     "duration": 1.821199,
     "end_time": "2021-01-28T18:24:51.549950",
     "exception": false,
     "start_time": "2021-01-28T18:24:49.728751",
     "status": "completed"
    },
    "tags": []
   },
   "outputs": [
    {
     "data": {
      "image/png": "[encoded data removed]",
      "text/plain": [
       "<Figure size 1440x1440 with 56 Axes>"
      ]
     },
     "metadata": {
      "needs_background": "light"
     },
     "output_type": "display_data"
    }
   ],
   "source": [
    "model_data.hist(figsize=(20, 20))\n",
    "plt.show()"
   ]
  },
  {
   "cell_type": "markdown",
   "metadata": {
    "papermill": {
     "duration": 0.108976,
     "end_time": "2021-01-28T18:25:11.572626",
     "exception": false,
     "start_time": "2021-01-28T18:25:11.463650",
     "status": "completed"
    },
    "tags": []
   },
   "source": [
    "## Corelation Plot"
   ]
  },
  {
   "cell_type": "code",
   "execution_count": 8,
   "metadata": {},
   "outputs": [],
   "source": [
    "corr_df = model_data[['imdb_id','title','genres','popularity','popularity2',\n",
    "                        'production_companies','production_countries','status','cast', 'crew', 'budget','revenue',\n",
    "                         'rating', 'totalVotes', 'sequel', 'release_year','runtime','num_of_keywords','num_of_languages']]"
   ]
  },
  {
   "cell_type": "code",
   "execution_count": 9,
   "metadata": {
    "execution": {
     "iopub.execute_input": "2021-01-28T18:25:11.798074Z",
     "iopub.status.busy": "2021-01-28T18:25:11.795233Z",
     "iopub.status.idle": "2021-01-28T18:25:12.301152Z",
     "shell.execute_reply": "2021-01-28T18:25:12.300563Z"
    },
    "papermill": {
     "duration": 0.621806,
     "end_time": "2021-01-28T18:25:12.301273",
     "exception": false,
     "start_time": "2021-01-28T18:25:11.679467",
     "status": "completed"
    },
    "tags": []
   },
   "outputs": [
    {
     "data": {
      "image/png": "[encoded data removed]",
      "text/plain": [
       "<Figure size 1080x648 with 1 Axes>"
      ]
     },
     "metadata": {
      "needs_background": "light"
     },
     "output_type": "display_data"
    }
   ],
   "source": [
    "plt.figure(figsize=(15, 9))\n",
    "corr_matrix = corr_df.corr()\n",
    "sns.heatmap(corr_matrix, mask=np.zeros_like(corr_matrix, dtype=np.bool), square=True, annot=True, cbar=False,cmap='coolwarm')\n",
    "plt.tight_layout()"
   ]
  },
  {
   "cell_type": "code",
   "execution_count": 10,
   "metadata": {
    "execution": {
     "iopub.execute_input": "2021-01-28T18:25:12.527729Z",
     "iopub.status.busy": "2021-01-28T18:25:12.526843Z",
     "iopub.status.idle": "2021-01-28T18:25:12.531343Z",
     "shell.execute_reply": "2021-01-28T18:25:12.530765Z"
    },
    "papermill": {
     "duration": 0.12113,
     "end_time": "2021-01-28T18:25:12.531457",
     "exception": false,
     "start_time": "2021-01-28T18:25:12.410327",
     "status": "completed"
    },
    "tags": []
   },
   "outputs": [
    {
     "data": {
      "text/plain": [
       "budget              1.000000\n",
       "revenue             0.752965\n",
       "totalVotes          0.590819\n",
       "popularity2         0.542509\n",
       "popularity          0.342356\n",
       "runtime             0.238410\n",
       "sequel              0.222932\n",
       "release_year        0.213915\n",
       "num_of_keywords     0.155771\n",
       "num_of_languages    0.101914\n",
       "rating              0.091976\n",
       "Name: budget, dtype: float64"
      ]
     },
     "execution_count": 10,
     "metadata": {},
     "output_type": "execute_result"
    }
   ],
   "source": [
    "# corr_matrix['revenue'].sort_values(ascending=False)\n",
    "corr_matrix['budget'].sort_values(ascending=False)"
   ]
  },
  {
   "cell_type": "markdown",
   "metadata": {
    "papermill": {
     "duration": 0.10977,
     "end_time": "2021-01-28T18:25:12.750205",
     "exception": false,
     "start_time": "2021-01-28T18:25:12.640435",
     "status": "completed"
    },
    "tags": []
   },
   "source": [
    "## Data Preprocessing"
   ]
  },
  {
   "cell_type": "markdown",
   "metadata": {},
   "source": [
    "### Preparing the Y axis"
   ]
  },
  {
   "cell_type": "code",
   "execution_count": 11,
   "metadata": {},
   "outputs": [],
   "source": [
    "#Y axis on 'revenue'(Do we need to create a 1 for revenue over the median revenue and a 0 for any revenue below for model??)\n",
    "# -----------------------------------------------------------------------------------------------\n",
    "model_data['average_revenue'] = np.where(model_data['revenue'] >1700000, 1, 0)"
   ]
  },
  {
   "cell_type": "code",
   "execution_count": 12,
   "metadata": {},
   "outputs": [],
   "source": [
    "#Y axis on 'totalVotes'\n",
    "# -----------------------------------------------------------------------------------------------\n",
    "model_data['total_votes'] = np.where(model_data['totalVotes'] >263, 1, 0)"
   ]
  },
  {
   "cell_type": "code",
   "execution_count": 13,
   "metadata": {},
   "outputs": [],
   "source": [
    "#Y axis on 'popularity2'\n",
    "# -----------------------------------------------------------------------------------------------\n",
    "model_data['popularity_rating'] = np.where(model_data['popularity2'] >8, 1, 0)"
   ]
  },
  {
   "cell_type": "code",
   "execution_count": 14,
   "metadata": {},
   "outputs": [],
   "source": [
    "#Y axis on 'rating'\n",
    "# -----------------------------------------------------------------------------------------------\n",
    "model_data['average_rating'] = np.where(model_data['rating'] >6, 1, 0)"
   ]
  },
  {
   "cell_type": "code",
   "execution_count": 15,
   "metadata": {},
   "outputs": [
    {
     "data": {
      "text/html": [
       "<div>\n",
       "<style scoped>\n",
       "    .dataframe tbody tr th:only-of-type {\n",
       "        vertical-align: middle;\n",
       "    }\n",
       "\n",
       "    .dataframe tbody tr th {\n",
       "        vertical-align: top;\n",
       "    }\n",
       "\n",
       "    .dataframe thead th {\n",
       "        text-align: right;\n",
       "    }\n",
       "</style>\n",
       "<table border=\"1\" class=\"dataframe\">\n",
       "  <thead>\n",
       "    <tr style=\"text-align: right;\">\n",
       "      <th></th>\n",
       "      <th>id</th>\n",
       "      <th>belongs_to_collection</th>\n",
       "      <th>budget</th>\n",
       "      <th>genres</th>\n",
       "      <th>homepage</th>\n",
       "      <th>imdb_id</th>\n",
       "      <th>original_language</th>\n",
       "      <th>original_title</th>\n",
       "      <th>overview</th>\n",
       "      <th>popularity</th>\n",
       "      <th>...</th>\n",
       "      <th>Foreign</th>\n",
       "      <th>Fantasy</th>\n",
       "      <th>War</th>\n",
       "      <th>Western</th>\n",
       "      <th>History</th>\n",
       "      <th>TV Movie</th>\n",
       "      <th>average_revenue</th>\n",
       "      <th>total_votes</th>\n",
       "      <th>popularity_rating</th>\n",
       "      <th>average_rating</th>\n",
       "    </tr>\n",
       "  </thead>\n",
       "  <tbody>\n",
       "    <tr>\n",
       "      <th>0</th>\n",
       "      <td>1</td>\n",
       "      <td>[{'id': 313576, 'name': 'Hot Tub Time Machine ...</td>\n",
       "      <td>14000000</td>\n",
       "      <td>['Comedy']</td>\n",
       "      <td>NaN</td>\n",
       "      <td>tt2637294</td>\n",
       "      <td>en</td>\n",
       "      <td>Hot Tub Time Machine 2</td>\n",
       "      <td>When Lou, who has become the \"father of the In...</td>\n",
       "      <td>6.575393</td>\n",
       "      <td>...</td>\n",
       "      <td>0</td>\n",
       "      <td>0</td>\n",
       "      <td>0</td>\n",
       "      <td>0</td>\n",
       "      <td>0</td>\n",
       "      <td>0</td>\n",
       "      <td>1</td>\n",
       "      <td>1</td>\n",
       "      <td>1</td>\n",
       "      <td>0</td>\n",
       "    </tr>\n",
       "    <tr>\n",
       "      <th>1</th>\n",
       "      <td>2</td>\n",
       "      <td>[{'id': 107674, 'name': 'The Princess Diaries ...</td>\n",
       "      <td>40000000</td>\n",
       "      <td>['Comedy', 'Drama', 'Family', 'Romance']</td>\n",
       "      <td>NaN</td>\n",
       "      <td>tt0368933</td>\n",
       "      <td>en</td>\n",
       "      <td>The Princess Diaries 2: Royal Engagement</td>\n",
       "      <td>Mia Thermopolis is now a college graduate and ...</td>\n",
       "      <td>8.248895</td>\n",
       "      <td>...</td>\n",
       "      <td>0</td>\n",
       "      <td>0</td>\n",
       "      <td>0</td>\n",
       "      <td>0</td>\n",
       "      <td>0</td>\n",
       "      <td>0</td>\n",
       "      <td>1</td>\n",
       "      <td>1</td>\n",
       "      <td>1</td>\n",
       "      <td>1</td>\n",
       "    </tr>\n",
       "  </tbody>\n",
       "</table>\n",
       "<p>2 rows × 74 columns</p>\n",
       "</div>"
      ],
      "text/plain": [
       "   id                              belongs_to_collection    budget  \\\n",
       "0   1  [{'id': 313576, 'name': 'Hot Tub Time Machine ...  14000000   \n",
       "1   2  [{'id': 107674, 'name': 'The Princess Diaries ...  40000000   \n",
       "\n",
       "                                     genres homepage    imdb_id  \\\n",
       "0                                ['Comedy']      NaN  tt2637294   \n",
       "1  ['Comedy', 'Drama', 'Family', 'Romance']      NaN  tt0368933   \n",
       "\n",
       "  original_language                            original_title  \\\n",
       "0                en                    Hot Tub Time Machine 2   \n",
       "1                en  The Princess Diaries 2: Royal Engagement   \n",
       "\n",
       "                                            overview  popularity  ... Foreign  \\\n",
       "0  When Lou, who has become the \"father of the In...    6.575393  ...       0   \n",
       "1  Mia Thermopolis is now a college graduate and ...    8.248895  ...       0   \n",
       "\n",
       "  Fantasy War Western  History TV Movie average_revenue total_votes  \\\n",
       "0       0   0       0        0        0               1           1   \n",
       "1       0   0       0        0        0               1           1   \n",
       "\n",
       "  popularity_rating average_rating  \n",
       "0                 1              0  \n",
       "1                 1              1  \n",
       "\n",
       "[2 rows x 74 columns]"
      ]
     },
     "execution_count": 15,
     "metadata": {},
     "output_type": "execute_result"
    }
   ],
   "source": [
    "\n",
    "# -----------------------------------------------------------------------------------------------\n",
    "model_data.head(2)"
   ]
  },
  {
   "cell_type": "markdown",
   "metadata": {},
   "source": [
    "### Preparing the X axis"
   ]
  },
  {
   "cell_type": "code",
   "execution_count": 16,
   "metadata": {},
   "outputs": [],
   "source": [
    "# X axis made up of Budget, Runtime, Genre and Language\n",
    "# -----------------------------------------------------------------------------------------------\n",
    "model_df1 = model_data[['budget','runtime','Comedy', 'Drama', \n",
    "                                'Family', 'Romance', 'Thriller','Action', 'Animation', 'Adventure', \n",
    "                                'Horror','Music','Crime', 'Science Fiction', 'Mystery', 'Fantasy', 'War','History',\n",
    "                                 'language_English','language_Français', 'language_Español', 'language_Deutsch',\n",
    "                                 'language_Pусский']]"
   ]
  },
  {
   "cell_type": "code",
   "execution_count": 17,
   "metadata": {},
   "outputs": [
    {
     "data": {
      "text/plain": [
       "budget                 int64\n",
       "runtime              float64\n",
       "Comedy                 int64\n",
       "Drama                  int64\n",
       "Family                 int64\n",
       "Romance                int64\n",
       "Thriller               int64\n",
       "Action                 int64\n",
       "Animation              int64\n",
       "Adventure              int64\n",
       "Horror                 int64\n",
       "Music                  int64\n",
       "Crime                  int64\n",
       "Science Fiction        int64\n",
       "Mystery                int64\n",
       "Fantasy                int64\n",
       "War                    int64\n",
       "History                int64\n",
       "language_English       int64\n",
       "language_Français      int64\n",
       "language_Español       int64\n",
       "language_Deutsch       int64\n",
       "language_Pусский       int64\n",
       "dtype: object"
      ]
     },
     "execution_count": 17,
     "metadata": {},
     "output_type": "execute_result"
    }
   ],
   "source": [
    "\n",
    "# -----------------------------------------------------------------------------------------------\n",
    "model_df1.dtypes"
   ]
  },
  {
   "cell_type": "markdown",
   "metadata": {
    "papermill": {
     "duration": 0.113697,
     "end_time": "2021-01-28T18:25:23.339155",
     "exception": false,
     "start_time": "2021-01-28T18:25:23.225458",
     "status": "completed"
    },
    "tags": []
   },
   "source": [
    "## Modelling"
   ]
  },
  {
   "cell_type": "markdown",
   "metadata": {},
   "source": [
    "### Multiple Linear Regression"
   ]
  },
  {
   "cell_type": "code",
   "execution_count": 18,
   "metadata": {},
   "outputs": [],
   "source": [
    "%matplotlib inline\n",
    "import matplotlib.pyplot as plt\n",
    "import numpy as np\n",
    "import pandas as pd\n",
    "import pickle\n",
    "from sklearn.linear_model import LinearRegression\n",
    "from sklearn.preprocessing import MinMaxScaler"
   ]
  },
  {
   "cell_type": "code",
   "execution_count": 19,
   "metadata": {},
   "outputs": [
    {
     "name": "stdout",
     "output_type": "stream",
     "text": [
      "(3000, 23) (3000, 1)\n"
     ]
    }
   ],
   "source": [
    "# Assign the data to X and y\n",
    "# -----------------------------------------------------------------------------------------------\n",
    "X = model_df1\n",
    "y = model_data['average_revenue'].values.reshape(-1, 1)\n",
    "# y = model_data['total_votes'].values.reshape(-1, 1)\n",
    "# y = model_data['popularity_rating'].values.reshape(-1, 1)\n",
    "# y = model_data['average_rating'].values.reshape(-1, 1)\n",
    "print(X.shape, y.shape)"
   ]
  },
  {
   "cell_type": "code",
   "execution_count": 20,
   "metadata": {},
   "outputs": [],
   "source": [
    "# Use train_test_split to create training and testing data\n",
    "# -----------------------------------------------------------------------------------------------\n",
    "from sklearn.model_selection import train_test_split\n",
    "X_train, X_test, y_train, y_test = train_test_split(X, y, test_size = 0.20,random_state=42)"
   ]
  },
  {
   "cell_type": "code",
   "execution_count": 21,
   "metadata": {},
   "outputs": [],
   "source": [
    "\n",
    "# -----------------------------------------------------------------------------------------------\n",
    "\n",
    "x_scaler = MinMaxScaler().fit(X_train)\n",
    "y_scaler = MinMaxScaler().fit(y_train)\n",
    "x_train_scaled = x_scaler.transform(X_train)\n",
    "y_train_scaled = y_scaler.transform(y_train)\n",
    "\n",
    "x_test_scaled = x_scaler.transform(X_test)\n",
    "y_test_scaled = y_scaler.transform(y_test)"
   ]
  },
  {
   "cell_type": "code",
   "execution_count": 22,
   "metadata": {},
   "outputs": [
    {
     "name": "stdout",
     "output_type": "stream",
     "text": [
      "Training Score: 0.15335085436385743\n",
      "Testing Score: 0.13608708195647667\n"
     ]
    }
   ],
   "source": [
    "# Fit the model to the training data and calculate the scores for the training and testing data\n",
    "# -----------------------------------------------------------------------------------------------\n",
    "model = LinearRegression()\n",
    "model.fit(x_train_scaled, y_train_scaled)\n",
    "training_score = model.score(x_train_scaled, y_train_scaled)\n",
    "testing_score = model.score(x_test_scaled, y_test_scaled)\n",
    "\n",
    "print(f\"Training Score: {training_score}\")\n",
    "print(f\"Testing Score: {testing_score}\")"
   ]
  },
  {
   "cell_type": "code",
   "execution_count": 23,
   "metadata": {},
   "outputs": [
    {
     "data": {
      "text/plain": [
       "Text(0.5, 1.0, 'Residual Plot')"
      ]
     },
     "execution_count": 23,
     "metadata": {},
     "output_type": "execute_result"
    },
    {
     "data": {
      "image/png": "[encoded data removed]",
      "text/plain": [
       "<Figure size 432x288 with 1 Axes>"
      ]
     },
     "metadata": {
      "needs_background": "light"
     },
     "output_type": "display_data"
    }
   ],
   "source": [
    "# Plot the Residuals for the Training and Testing data\n",
    "# -----------------------------------------------------------------------------------------------\n",
    "plt.scatter(model.predict(X_train), model.predict(X_train) - y_train, c=\"blue\", label=\"Training Data\")\n",
    "plt.scatter(model.predict(X_test), model.predict(X_test) - y_test, c=\"orange\", label=\"Testing Data\")\n",
    "plt.legend()\n",
    "plt.hlines(y=0, xmin=y.min(), xmax=y.max())\n",
    "plt.title(\"Residual Plot\")\n"
   ]
  },
  {
   "cell_type": "code",
   "execution_count": 24,
   "metadata": {},
   "outputs": [],
   "source": [
    "#Save MRL model\n",
    "# -----------------------------------------------------------------------------------------------\n",
    "# pickle.dump(model, open('../Resources/model_mlrrev.pkl','wb')) #Y on Revenue\n",
    "# pickle.dump(model, open('../Resources/model_mlrtot.pkl','wb')) #Y on TotalVotes\n",
    "# pickle.dump(model, open('../Resources/model_mlrpop.pkl','wb')) #Y on Popularity\n",
    "# pickle.dump(model, open('../Resources/model_mlrrat.pkl','wb')) #Y on Rating"
   ]
  },
  {
   "cell_type": "markdown",
   "metadata": {},
   "source": [
    "### Support Vector Classification Machines\n",
    "\n",
    "https://scikit-learn.org/stable/modules/svm.html"
   ]
  },
  {
   "cell_type": "code",
   "execution_count": 25,
   "metadata": {},
   "outputs": [],
   "source": [
    "import matplotlib.pyplot as plt\n",
    "from sklearn.svm import SVC \n",
    "import pandas as pd\n",
    "import numpy as np\n",
    "import os"
   ]
  },
  {
   "cell_type": "code",
   "execution_count": 26,
   "metadata": {},
   "outputs": [
    {
     "name": "stdout",
     "output_type": "stream",
     "text": [
      "(3000, 23) (3000, 1)\n"
     ]
    }
   ],
   "source": [
    "# Assign the data to X and y\n",
    "# -----------------------------------------------------------------------------------------------\n",
    "X = model_df1\n",
    "y = model_data['average_revenue'].values.reshape(-1, 1)\n",
    "# y = model_data['total_votes'].values.reshape(-1, 1)\n",
    "# y = model_data['popularity_rating'].values.reshape(-1, 1)\n",
    "# y = model_data['average_rating'].values.reshape(-1, 1)\n",
    "\n",
    "print(X.shape, y.shape)"
   ]
  },
  {
   "cell_type": "code",
   "execution_count": 27,
   "metadata": {},
   "outputs": [],
   "source": [
    "# Use train_test_split to create training and testing data\n",
    "# -----------------------------------------------------------------------------------------------\n",
    "from sklearn.model_selection import train_test_split\n",
    "X_train, X_test, y_train, y_test = train_test_split(X, y, test_size = 0.20, random_state=42)"
   ]
  },
  {
   "cell_type": "code",
   "execution_count": 28,
   "metadata": {},
   "outputs": [],
   "source": [
    "\n",
    "# -----------------------------------------------------------------------------------------------\n",
    "x_scaler = MinMaxScaler().fit(X_train)\n",
    "y_scaler = MinMaxScaler().fit(y_train)\n",
    "x_train_scaled = x_scaler.transform(X_train)\n",
    "y_train_scaled = y_scaler.transform(y_train)\n",
    "\n",
    "x_test_scaled = x_scaler.transform(X_test)\n",
    "pickle.dump(x_scaler, open('../Resources/scaler.pkl','wb'))\n",
    "y_test_scaled = y_scaler.transform(y_test)"
   ]
  },
  {
   "cell_type": "code",
   "execution_count": 29,
   "metadata": {},
   "outputs": [
    {
     "name": "stderr",
     "output_type": "stream",
     "text": [
      "c:\\users\\alysh\\anaconda3\\envs\\pythondata\\lib\\site-packages\\sklearn\\utils\\validation.py:63: DataConversionWarning: A column-vector y was passed when a 1d array was expected. Please change the shape of y to (n_samples, ), for example using ravel().\n",
      "  return f(*args, **kwargs)\n"
     ]
    },
    {
     "data": {
      "text/plain": [
       "SVC()"
      ]
     },
     "execution_count": 29,
     "metadata": {},
     "output_type": "execute_result"
    }
   ],
   "source": [
    "# Support vector machine linear classifier\n",
    "# -----------------------------------------------------------------------------------------------\n",
    "from sklearn.svm import SVC\n",
    "model = SVC(kernel='rbf')\n",
    "model.fit(x_train_scaled, y_train)"
   ]
  },
  {
   "cell_type": "code",
   "execution_count": 30,
   "metadata": {},
   "outputs": [
    {
     "name": "stdout",
     "output_type": "stream",
     "text": [
      "Test Acc: 0.785\n"
     ]
    }
   ],
   "source": [
    "# Model Accuracy\n",
    "# -----------------------------------------------------------------------------------------------\n",
    "print('Test Acc: %.3f' % model.score(x_test_scaled, y_test))"
   ]
  },
  {
   "cell_type": "code",
   "execution_count": 31,
   "metadata": {
    "scrolled": true
   },
   "outputs": [
    {
     "name": "stdout",
     "output_type": "stream",
     "text": [
      "              precision    recall  f1-score   support\n",
      "\n",
      "           0       0.00      0.00      0.00       137\n",
      "           1       0.77      1.00      0.87       463\n",
      "\n",
      "    accuracy                           0.77       600\n",
      "   macro avg       0.39      0.50      0.44       600\n",
      "weighted avg       0.60      0.77      0.67       600\n",
      "\n"
     ]
    }
   ],
   "source": [
    "# Calculate classification report\n",
    "# -----------------------------------------------------------------------------------------------\n",
    "from sklearn.metrics import classification_report\n",
    "predictions = model.predict(X_test)\n",
    "print(classification_report(y_test, predictions))"
   ]
  },
  {
   "cell_type": "code",
   "execution_count": 32,
   "metadata": {},
   "outputs": [],
   "source": [
    "# Save SVC Model. **All SVC Models are currently saved to the Resources directory**\n",
    "# -----------------------------------------------------------------------------------------------\n",
    "# pickle.dump(model, open('../Resources/model_svcrev.pkl','wb'))\n",
    "# pickle.dump(model, open('../Resources/model_svctot.pkl','wb'))\n",
    "# pickle.dump(model, open('../Resources/model_svcpop.pkl','wb'))\n",
    "# pickle.dump(model, open('../Resources/model_svcrat.pkl','wb'))"
   ]
  }
 ],
 "metadata": {
  "kernelspec": {
   "display_name": "Python 3",
   "language": "python",
   "name": "python3"
  },
  "language_info": {
   "codemirror_mode": {
    "name": "ipython",
    "version": 3
   },
   "file_extension": ".py",
   "mimetype": "text/x-python",
   "name": "python",
   "nbconvert_exporter": "python",
   "pygments_lexer": "ipython3",
   "version": "3.6.10"
  },
  "papermill": {
   "duration": 571.017627,
   "end_time": "2021-01-28T18:34:03.295846",
   "environment_variables": {},
   "exception": null,
   "input_path": "__notebook__.ipynb",
   "output_path": "__notebook__.ipynb",
   "parameters": {},
   "start_time": "2021-01-28T18:24:32.278219",
   "version": "2.1.0"
  }
 },
 "nbformat": 4,
 "nbformat_minor": 4
}
