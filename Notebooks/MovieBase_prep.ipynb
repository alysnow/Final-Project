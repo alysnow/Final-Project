{
 "cells": [
  {
   "cell_type": "markdown",
   "id": "7d26d663",
   "metadata": {},
   "source": [
    "# MovieBase Data Preprocessing\n",
    "\n",
    "https://grouplens.org/datasets/movielens/latest"
   ]
  },
  {
   "cell_type": "code",
   "execution_count": 2,
   "id": "99fade6b",
   "metadata": {},
   "outputs": [],
   "source": [
    "import numpy as np\n",
    "import pandas as pd\n",
    "import json\n",
    "\n",
    "# Python ≥3.5 is required\n",
    "import sys\n",
    "#assert sys.version_info >= (3, 5)\n",
    "\n",
    "# Scikit-Learn ≥0.20 is required\n",
    "import sklearn\n",
    "#assert sklearn.__version__ >= \"0.20\"\n",
    "\n",
    "# Common imports\n",
    "import numpy as np\n",
    "import os # operator system\n",
    "\n",
    "# to make this notebook's output stable across runs\n",
    "np.random.seed(42)\n",
    "\n",
    "# Read CSV file\n",
    "# ----------------------------------\n",
    "data = pd.read_csv(\"../Resources/data/train.csv\")"
   ]
  },
  {
   "cell_type": "code",
   "execution_count": 3,
   "id": "29071fc1",
   "metadata": {},
   "outputs": [],
   "source": [
    "# Main IMDB table partially with selected columns\n",
    "# ----------------------------------\n",
    "imdb_table = data[['id','imdb_id','poster_path','title','genres','status','production_companies',\n",
    "                'production_countries','original_language','popularity',\n",
    "                'release_date','runtime','cast','crew','budget','revenue']]"
   ]
  },
  {
   "cell_type": "markdown",
   "id": "8ffca00d",
   "metadata": {},
   "source": [
    "## MovieBase Form Dropdown Selections"
   ]
  },
  {
   "cell_type": "markdown",
   "id": "22553e5b",
   "metadata": {},
   "source": [
    "### Genre"
   ]
  },
  {
   "cell_type": "code",
   "execution_count": 3,
   "id": "6d3390f7",
   "metadata": {},
   "outputs": [
    {
     "name": "stderr",
     "output_type": "stream",
     "text": [
      "c:\\users\\alysh\\anaconda3\\envs\\pythondata\\lib\\site-packages\\ipykernel_launcher.py:10: SettingWithCopyWarning: \n",
      "A value is trying to be set on a copy of a slice from a DataFrame.\n",
      "Try using .loc[row_indexer,col_indexer] = value instead\n",
      "\n",
      "See the caveats in the documentation: https://pandas.pydata.org/pandas-docs/stable/user_guide/indexing.html#returning-a-view-versus-a-copy\n",
      "  # Remove the CWD from sys.path while we load stuff.\n"
     ]
    }
   ],
   "source": [
    "# Genre Table for FORM\n",
    "# ----------------------------------\n",
    "def get_lists(row):\n",
    "    try:\n",
    "        return eval(row)\n",
    "    except:\n",
    "        return None\n",
    "    \n",
    "genre = imdb_table[['id','budget','genres']]\n",
    "genre['genres'] = genre['genres'].apply(get_lists)\n",
    "genre = genre.explode('genres')\n",
    "\n",
    "def get_name(row):\n",
    "    try:\n",
    "        return row['name']\n",
    "    except:\n",
    "        return None\n",
    "\n",
    "genre['genre_name']=genre['genres'].apply(get_name)"
   ]
  },
  {
   "cell_type": "code",
   "execution_count": 4,
   "id": "e4a28b05",
   "metadata": {},
   "outputs": [],
   "source": [
    "# Genre Table for FORM\n",
    "# ----------------------------------\n",
    "genre_df1 = genre[['id','genre_name']]\n",
    "genre_df2 = genre_df1.drop_duplicates(['genre_name'], keep='last')\n",
    "genre_df3 = genre_df2.reset_index(drop=True)\n",
    "genre_df4 = genre_df3.drop([0, 3])\n",
    "genre_table = genre_df4.reset_index(drop=True)"
   ]
  },
  {
   "cell_type": "markdown",
   "id": "08f772f7",
   "metadata": {},
   "source": [
    "### Cast"
   ]
  },
  {
   "cell_type": "code",
   "execution_count": 5,
   "id": "cc9044a0",
   "metadata": {},
   "outputs": [],
   "source": [
    "# Cast Table for FORM \n",
    "# **Need to explore how to create the cast table as the contents of the cast cell values contain the following which includes more than one variable;\n",
    "#\"[{'cast_id': 4, 'character': 'Lou', 'credit_id': '52fe4ee7c3a36847f82afae7', 'gender': 2, 'id': 52997, 'name': 'Rob Corddry', 'order': 0, 'profile_path': '/k2zJL0V1nEZuFT08xUdOd3ucfXz.jpg'}, {'cast_id': 5, 'character': 'Nick', 'credit_id': '52fe4ee7c3a36847f82afaeb', 'gender': 2, 'id': 64342, 'name': 'Craig Robinson', 'order': 1, 'profile_path': '/tVaRMkJXOEVhYxtnnFuhqW0Rjzz.jpg'}, {'cast_id': 6, 'character': 'Jacob', 'credit_id': '52fe4ee7c3a36847f82afaef', 'gender': 2, 'id': 54729, 'name': 'Clark Duke', 'order': 2, 'profile_path': '/oNzK0umwm5Wn0wyEbOy6TVJCSBn.jpg'}, {'cast_id': 7, 'character': 'Adam Jr.', 'credit_id': '52fe4ee7c3a36847f82afaf3', 'gender': 2, 'id': 36801, 'name': 'Adam Scott', 'order': 3, 'profile_path': '/5gb65xz8bzd42yjMAl4zwo4cvKw.jpg'}, {'cast_id': 8, 'character': 'Hot Tub Repairman', 'credit_id': '52fe4ee7c3a36847f82afaf7', 'gender': 2, 'id': 54812, 'name': 'Chevy Chase', 'order': 4, 'profile_path': '/svjpyYtPwtjvRxX9IZnOmOkhDOt.jpg'}, {'cast_id': 9, 'character': 'Jill', 'credit_id': '52fe4ee7c3a36847f82afafb', 'gender': 1, 'id': 94098, 'name': 'Gillian Jacobs', 'order': 5, 'profile_path': '/rBnhe5vhNPnhRUdtYahBWx90fJM.jpg'}, {'cast_id': 10, 'character': 'Sophie', 'credit_id': '52fe4ee7c3a36847f82afaff', 'gender': 1, 'id': 1159009, 'name': 'Bianca Haase', 'order': 6, 'profile_path': '/4x3nbtD8q8phAJPmoGWXPvz0iM.jpg'}, {'cast_id': 11, 'character': 'Kelly', 'credit_id': '5524ec51c3a3687df3000dbb', 'gender': 1, 'id': 86624, 'name': 'Collette Wolfe', 'order': 7, 'profile_path': '/aSD4h5379b2eEw3bLou9ByLimmq.jpg'}, {'cast_id': 13, 'character': 'Brad', 'credit_id': '5524ec8ec3a3687ded000d72', 'gender': 2, 'id': 466505, 'name': 'Kumail Nanjiani', 'order': 9, 'profile_path': '/x4nAztHY72SVciRfxEsbhIVTsIu.jpg'}, {'cast_id': 14, 'character': 'Courtney', 'credit_id': '5524ec9bc3a3687df8000d13', 'gender': 1, 'id': 70776, 'name': 'Kellee Stewart', 'order': 10, 'profile_path': '/w3xmsEPmJc1Cf0dQ4aIn8YmlHbk.jpg'}, {'cast_id': 15, 'character': 'Terry', 'credit_id': '5524eca892514171cb008237', 'gender': 2, 'id': 347335, 'name': 'Josh Heald', 'order': 11, 'profile_path': '/pwXJIenrDMrG7t3zNfLvr8w1RGU.jpg'}, {'cast_id': 16, 'character': 'Susan', 'credit_id': '5524ecb7925141720c001116', 'gender': 0, 'id': 1451392, 'name': 'Gretchen Koerner', 'order': 12, 'profile_path': '/muULPexCTJGyJba4yKzxronpD50.jpg'}, {'cast_id': 17, 'character': 'Herself', 'credit_id': '5524ecc3c3a3687ded000d74', 'gender': 1, 'id': 98879, 'name': 'Lisa Loeb', 'order': 13, 'profile_path': '/bGqg58ca0bZR38z9HliUMmeNGE.jpg'}, {'cast_id': 18, 'character': 'Herself', 'credit_id': '5524ecd3c3a3687e11000ed3', 'gender': 1, 'id': 1394648, 'name': 'Jessica Williams', 'order': 14, 'profile_path': '/A4syKjkcYB92wLEhH0c0hC3BCpz.jpg'}, {'cast_id': 19, 'character': 'Himself', 'credit_id': '5524ece6925141718d001009', 'gender': 0, 'id': 1451393, 'name': 'Bruce Buffer', 'order': 15, 'profile_path': None}, {'cast_id': 20, 'character': 'Shot Girl', 'credit_id': '5524ecf5c3a3687e08000dc2', 'gender': 0, 'id': 1451394, 'name': 'Mariana Paola Vicente', 'order': 16, 'profile_path': '/ckPllza8624UHWGHCbLShkLxCD1.jpg'}, {'cast_id': 33, 'character': 'Choozy Doozy Host', 'credit_id': '555844da9251412afe0013a9', 'gender': 2, 'id': 2224, 'name': 'Christian Slater', 'order': 17, 'profile_path': '/3ElLWjnvchMS6Q4cIQOK8QNAoMG.jpg'}, {'cast_id': 35, 'character': 'Gary Winkle', 'credit_id': '55872027c3a3683853005074', 'gender': 0, 'id': 185805, 'name': 'Jason Jones', 'order': 18, 'profile_path': '/aIoCw6vo8AGMdsQRAI5g2t0yJT3.jpg'}, {'cast_id': 36, 'character': 'Bridesmaid', 'credit_id': '55efe971c3a368090c00cd1b', 'gender': 0, 'id': 1507448, 'name': 'Olivia Jordan', 'order': 19, 'profile_path': '/szMukAEiIDeasel0lvyaeyKuych.jpg'}, {'cast_id': 37, 'character': 'Christine', 'credit_id': '55efe980c3a36871bf008176', 'gender': 1, 'id': 1334091, 'name': 'Christine Bently', 'order': 20, 'profile_path': '/oUZltnGa55OXE52hfyPTfCshuNy.jpg'}, {'cast_id': 38, 'character': 'Excited Girl', 'credit_id': '55efe98e9251413e3201d316', 'gender': 0, 'id': 557803, 'name': 'Stacey Asaro', 'order': 21, 'profile_path': '/qTPdlr1dXf3kNdyHuDsgtGC0HCC.jpg'}, {'cast_id': 64, 'character': 'Adam (uncredited)', 'credit_id': '58f2135ac3a3682e95008b91', 'gender': 2, 'id': 3036, 'name': 'John Cusack', 'order': 22, 'profile_path': '/uKydQYuZ9TnCzvbQLtj6j98vWAT.jpg'}, {'cast_id': 65, 'character': 'J-Bird', 'credit_id': '59ac0240c3a3682cc802c399', 'gender': 2, 'id': 59256, 'name': 'Adam Herschman', 'order': 23, 'profile_path': '/wZMwiuX1DslF6hDS50z9OTN6z1X.jpg'}, {'cast_id': 66, 'character': 'Bridesmaid', 'credit_id': '59ac02cd925141079d02b1b4', 'gender': 1, 'id': 129714, 'name': 'Kisha Sierra', 'order': 24, 'profile_path': None}]\"\n",
    "# ----------------------------------\n",
    "# def get_lists(row):\n",
    "#     try:\n",
    "#         return eval(row)\n",
    "#     except:\n",
    "#         return None\n",
    "    \n",
    "# cast = imdb_table[['id','cast']]\n",
    "# cast['cast'] = cast['cast'].apply(get_lists)\n",
    "# cast = cast.explode('cast')\n",
    "\n",
    "# def get_name(row):\n",
    "#     try:\n",
    "#         return row['cast']\n",
    "#     except:\n",
    "#         return None\n",
    "\n",
    "# cast['cast_name']=cast['cast'].apply(get_name)"
   ]
  },
  {
   "cell_type": "code",
   "execution_count": 6,
   "id": "7f56c428",
   "metadata": {},
   "outputs": [],
   "source": [
    "# Cast Table for FORM\n",
    "# ----------------------------------\n",
    "# cast_df1 = cast[['cast_name']]\n",
    "# cast_df2 = cast_df1.drop_duplicates(['cast_name'], keep='last')\n",
    "# cast_df3 = cast_df2.reset_index(drop=True)\n",
    "# cast_table = cast_df3.reset_index(drop=False)"
   ]
  },
  {
   "cell_type": "markdown",
   "id": "3b411d0f",
   "metadata": {},
   "source": [
    "### Movie Title"
   ]
  },
  {
   "cell_type": "code",
   "execution_count": 7,
   "id": "04add825",
   "metadata": {},
   "outputs": [],
   "source": [
    "# Movie Table for FORM\n",
    "# ----------------------------------\n",
    "title_df1 = imdb_table[['id','title']]\n",
    "title_df1.dropna\n",
    "title_table = title_df1.reset_index(drop=True)"
   ]
  },
  {
   "cell_type": "markdown",
   "id": "ba77ce36",
   "metadata": {},
   "source": [
    "### Popularity"
   ]
  },
  {
   "cell_type": "code",
   "execution_count": 8,
   "id": "d3afdb76",
   "metadata": {},
   "outputs": [],
   "source": [
    "popular_table = imdb_table[['id','popularity']]"
   ]
  },
  {
   "cell_type": "markdown",
   "id": "1f97a3ae",
   "metadata": {},
   "source": [
    "### Revenue"
   ]
  },
  {
   "cell_type": "code",
   "execution_count": 9,
   "id": "c3616384",
   "metadata": {},
   "outputs": [],
   "source": [
    "revenue_table = imdb_table[['id','revenue']]"
   ]
  },
  {
   "cell_type": "markdown",
   "id": "51bb2bb1",
   "metadata": {},
   "source": [
    "## SQL Database"
   ]
  },
  {
   "cell_type": "code",
   "execution_count": 10,
   "id": "34debe5e",
   "metadata": {},
   "outputs": [],
   "source": [
    "# Imports the method used for connecting to DBs\n",
    "# ----------------------------------\n",
    "from sqlalchemy import create_engine\n",
    "\n",
    "# Create Database Connection\n",
    "# ----------------------------------\n",
    "# Creates a connection to our DB\n",
    "engine = create_engine('sqlite:///imdb_movie.db').connect()"
   ]
  },
  {
   "cell_type": "code",
   "execution_count": 11,
   "id": "8271b03f",
   "metadata": {},
   "outputs": [],
   "source": [
    "# Import tables to db\n",
    "# ----------------------------------\n",
    "imdb_table.to_sql(\"imdb_table\", engine)\n",
    "genre_table.to_sql(\"genre\", engine)\n",
    "# cast_table.to_sql(\"cast_table\", engine)\n",
    "title_table.to_sql(\"movie_title\", engine)\n",
    "popular_table.to_sql(\"popularity\", engine)\n",
    "revenue_table.to_sql(\"revenue\", engine)"
   ]
  },
  {
   "cell_type": "markdown",
   "id": "81bbaed5",
   "metadata": {},
   "source": [
    "## Tableau"
   ]
  },
  {
   "cell_type": "code",
   "execution_count": 12,
   "id": "6a759664",
   "metadata": {},
   "outputs": [],
   "source": [
    "# Main IMDB table partially with selected columns\n",
    "# ----------------------------------\n",
    "imdb_tableau = data[['id','imdb_id','title','genres','status','popularity',\n",
    "                'release_date','runtime','cast','crew','budget','revenue']]"
   ]
  },
  {
   "cell_type": "code",
   "execution_count": 13,
   "id": "3746e095",
   "metadata": {},
   "outputs": [],
   "source": [
    "# Genre dataframe for Tableau\n",
    "# ----------------------------------\n",
    "genre_tableau = genre[['id','budget','genre_name']]"
   ]
  },
  {
   "cell_type": "code",
   "execution_count": 14,
   "id": "6ccaf5c1",
   "metadata": {},
   "outputs": [],
   "source": [
    "# Cast dataframe for Tableau\n",
    "# **Need to explore how to create the cast table as the contents of the cast cell values contain the following which includes more than one variable;\n",
    "#\"[{'cast_id': 4, 'character': 'Lou', 'credit_id': '52fe4ee7c3a36847f82afae7', 'gender': 2, 'id': 52997, 'name': 'Rob Corddry', 'order': 0, 'profile_path': '/k2zJL0V1nEZuFT08xUdOd3ucfXz.jpg'}, {'cast_id': 5, 'character': 'Nick', 'credit_id': '52fe4ee7c3a36847f82afaeb', 'gender': 2, 'id': 64342, 'name': 'Craig Robinson', 'order': 1, 'profile_path': '/tVaRMkJXOEVhYxtnnFuhqW0Rjzz.jpg'}, {'cast_id': 6, 'character': 'Jacob', 'credit_id': '52fe4ee7c3a36847f82afaef', 'gender': 2, 'id': 54729, 'name': 'Clark Duke', 'order': 2, 'profile_path': '/oNzK0umwm5Wn0wyEbOy6TVJCSBn.jpg'}, {'cast_id': 7, 'character': 'Adam Jr.', 'credit_id': '52fe4ee7c3a36847f82afaf3', 'gender': 2, 'id': 36801, 'name': 'Adam Scott', 'order': 3, 'profile_path': '/5gb65xz8bzd42yjMAl4zwo4cvKw.jpg'}, {'cast_id': 8, 'character': 'Hot Tub Repairman', 'credit_id': '52fe4ee7c3a36847f82afaf7', 'gender': 2, 'id': 54812, 'name': 'Chevy Chase', 'order': 4, 'profile_path': '/svjpyYtPwtjvRxX9IZnOmOkhDOt.jpg'}, {'cast_id': 9, 'character': 'Jill', 'credit_id': '52fe4ee7c3a36847f82afafb', 'gender': 1, 'id': 94098, 'name': 'Gillian Jacobs', 'order': 5, 'profile_path': '/rBnhe5vhNPnhRUdtYahBWx90fJM.jpg'}, {'cast_id': 10, 'character': 'Sophie', 'credit_id': '52fe4ee7c3a36847f82afaff', 'gender': 1, 'id': 1159009, 'name': 'Bianca Haase', 'order': 6, 'profile_path': '/4x3nbtD8q8phAJPmoGWXPvz0iM.jpg'}, {'cast_id': 11, 'character': 'Kelly', 'credit_id': '5524ec51c3a3687df3000dbb', 'gender': 1, 'id': 86624, 'name': 'Collette Wolfe', 'order': 7, 'profile_path': '/aSD4h5379b2eEw3bLou9ByLimmq.jpg'}, {'cast_id': 13, 'character': 'Brad', 'credit_id': '5524ec8ec3a3687ded000d72', 'gender': 2, 'id': 466505, 'name': 'Kumail Nanjiani', 'order': 9, 'profile_path': '/x4nAztHY72SVciRfxEsbhIVTsIu.jpg'}, {'cast_id': 14, 'character': 'Courtney', 'credit_id': '5524ec9bc3a3687df8000d13', 'gender': 1, 'id': 70776, 'name': 'Kellee Stewart', 'order': 10, 'profile_path': '/w3xmsEPmJc1Cf0dQ4aIn8YmlHbk.jpg'}, {'cast_id': 15, 'character': 'Terry', 'credit_id': '5524eca892514171cb008237', 'gender': 2, 'id': 347335, 'name': 'Josh Heald', 'order': 11, 'profile_path': '/pwXJIenrDMrG7t3zNfLvr8w1RGU.jpg'}, {'cast_id': 16, 'character': 'Susan', 'credit_id': '5524ecb7925141720c001116', 'gender': 0, 'id': 1451392, 'name': 'Gretchen Koerner', 'order': 12, 'profile_path': '/muULPexCTJGyJba4yKzxronpD50.jpg'}, {'cast_id': 17, 'character': 'Herself', 'credit_id': '5524ecc3c3a3687ded000d74', 'gender': 1, 'id': 98879, 'name': 'Lisa Loeb', 'order': 13, 'profile_path': '/bGqg58ca0bZR38z9HliUMmeNGE.jpg'}, {'cast_id': 18, 'character': 'Herself', 'credit_id': '5524ecd3c3a3687e11000ed3', 'gender': 1, 'id': 1394648, 'name': 'Jessica Williams', 'order': 14, 'profile_path': '/A4syKjkcYB92wLEhH0c0hC3BCpz.jpg'}, {'cast_id': 19, 'character': 'Himself', 'credit_id': '5524ece6925141718d001009', 'gender': 0, 'id': 1451393, 'name': 'Bruce Buffer', 'order': 15, 'profile_path': None}, {'cast_id': 20, 'character': 'Shot Girl', 'credit_id': '5524ecf5c3a3687e08000dc2', 'gender': 0, 'id': 1451394, 'name': 'Mariana Paola Vicente', 'order': 16, 'profile_path': '/ckPllza8624UHWGHCbLShkLxCD1.jpg'}, {'cast_id': 33, 'character': 'Choozy Doozy Host', 'credit_id': '555844da9251412afe0013a9', 'gender': 2, 'id': 2224, 'name': 'Christian Slater', 'order': 17, 'profile_path': '/3ElLWjnvchMS6Q4cIQOK8QNAoMG.jpg'}, {'cast_id': 35, 'character': 'Gary Winkle', 'credit_id': '55872027c3a3683853005074', 'gender': 0, 'id': 185805, 'name': 'Jason Jones', 'order': 18, 'profile_path': '/aIoCw6vo8AGMdsQRAI5g2t0yJT3.jpg'}, {'cast_id': 36, 'character': 'Bridesmaid', 'credit_id': '55efe971c3a368090c00cd1b', 'gender': 0, 'id': 1507448, 'name': 'Olivia Jordan', 'order': 19, 'profile_path': '/szMukAEiIDeasel0lvyaeyKuych.jpg'}, {'cast_id': 37, 'character': 'Christine', 'credit_id': '55efe980c3a36871bf008176', 'gender': 1, 'id': 1334091, 'name': 'Christine Bently', 'order': 20, 'profile_path': '/oUZltnGa55OXE52hfyPTfCshuNy.jpg'}, {'cast_id': 38, 'character': 'Excited Girl', 'credit_id': '55efe98e9251413e3201d316', 'gender': 0, 'id': 557803, 'name': 'Stacey Asaro', 'order': 21, 'profile_path': '/qTPdlr1dXf3kNdyHuDsgtGC0HCC.jpg'}, {'cast_id': 64, 'character': 'Adam (uncredited)', 'credit_id': '58f2135ac3a3682e95008b91', 'gender': 2, 'id': 3036, 'name': 'John Cusack', 'order': 22, 'profile_path': '/uKydQYuZ9TnCzvbQLtj6j98vWAT.jpg'}, {'cast_id': 65, 'character': 'J-Bird', 'credit_id': '59ac0240c3a3682cc802c399', 'gender': 2, 'id': 59256, 'name': 'Adam Herschman', 'order': 23, 'profile_path': '/wZMwiuX1DslF6hDS50z9OTN6z1X.jpg'}, {'cast_id': 66, 'character': 'Bridesmaid', 'credit_id': '59ac02cd925141079d02b1b4', 'gender': 1, 'id': 129714, 'name': 'Kisha Sierra', 'order': 24, 'profile_path': None}]\"\n",
    "# ----------------------------------"
   ]
  },
  {
   "cell_type": "code",
   "execution_count": 15,
   "id": "d4032676",
   "metadata": {},
   "outputs": [
    {
     "name": "stderr",
     "output_type": "stream",
     "text": [
      "c:\\users\\alysh\\anaconda3\\envs\\pythondata\\lib\\site-packages\\ipykernel_launcher.py:10: SettingWithCopyWarning: \n",
      "A value is trying to be set on a copy of a slice from a DataFrame.\n",
      "Try using .loc[row_indexer,col_indexer] = value instead\n",
      "\n",
      "See the caveats in the documentation: https://pandas.pydata.org/pandas-docs/stable/user_guide/indexing.html#returning-a-view-versus-a-copy\n",
      "  # Remove the CWD from sys.path while we load stuff.\n"
     ]
    }
   ],
   "source": [
    "# production_countries dataframe for Tableau\n",
    "# ----------------------------------\n",
    "def get_lists(row):\n",
    "    try:\n",
    "        return eval(row)\n",
    "    except:\n",
    "        return None\n",
    "    \n",
    "country = imdb_table[['id','revenue','production_countries']]\n",
    "country['production_countries'] = country['production_countries'].apply(get_lists)\n",
    "country = country.explode('production_countries')\n",
    "\n",
    "def get_name(row):\n",
    "    try:\n",
    "        return row['name']\n",
    "    except:\n",
    "        return None\n",
    "\n",
    "country['country_name']=country['production_countries'].apply(get_name)"
   ]
  },
  {
   "cell_type": "code",
   "execution_count": 16,
   "id": "7540b35d",
   "metadata": {},
   "outputs": [],
   "source": [
    "# production_countries dataframe for Tableau\n",
    "# ----------------------------------\n",
    "pc_df1 = country[['id','revenue','country_name']]\n",
    "country_tableau = pc_df1.reset_index(drop=True)"
   ]
  },
  {
   "cell_type": "code",
   "execution_count": 17,
   "id": "cd69f57c",
   "metadata": {},
   "outputs": [
    {
     "name": "stderr",
     "output_type": "stream",
     "text": [
      "c:\\users\\alysh\\anaconda3\\envs\\pythondata\\lib\\site-packages\\ipykernel_launcher.py:10: SettingWithCopyWarning: \n",
      "A value is trying to be set on a copy of a slice from a DataFrame.\n",
      "Try using .loc[row_indexer,col_indexer] = value instead\n",
      "\n",
      "See the caveats in the documentation: https://pandas.pydata.org/pandas-docs/stable/user_guide/indexing.html#returning-a-view-versus-a-copy\n",
      "  # Remove the CWD from sys.path while we load stuff.\n"
     ]
    }
   ],
   "source": [
    "# production_companies dataframe for Tableau\n",
    "# ----------------------------------\n",
    "def get_lists(row):\n",
    "    try:\n",
    "        return eval(row)\n",
    "    except:\n",
    "        return None\n",
    "    \n",
    "company = imdb_table[['id','revenue','production_companies']]\n",
    "company['production_companies'] = company['production_companies'].apply(get_lists)\n",
    "company = company.explode('production_companies')\n",
    "\n",
    "def get_name(row):\n",
    "    try:\n",
    "        return row['name']\n",
    "    except:\n",
    "        return None\n",
    "\n",
    "company['company_name']=company['production_companies'].apply(get_name)"
   ]
  },
  {
   "cell_type": "code",
   "execution_count": 18,
   "id": "0c96bcf3",
   "metadata": {},
   "outputs": [],
   "source": [
    "# production_countries dataframe for Tableau\n",
    "# ----------------------------------\n",
    "pc_df2 = company[['id','revenue','company_name']]\n",
    "company_tableau = pc_df2.reset_index(drop=True)"
   ]
  },
  {
   "cell_type": "markdown",
   "id": "342bca46",
   "metadata": {},
   "source": [
    "## CSV"
   ]
  },
  {
   "cell_type": "code",
   "execution_count": 20,
   "id": "fbfe9ad9",
   "metadata": {},
   "outputs": [],
   "source": [
    "# FORM Tables\n",
    "# ----------------------------------\n",
    "imdb_table.to_csv(\"../Resources/data/imdb_table.csv\",index=False)\n",
    "genre_table.to_csv(\"../Resources/data/forms/genre_table.csv\",index=False)\n",
    "# cast_table.to_csv(\"../Resources/data/forms/cast_table.csv\",index=False)\n",
    "title_table.to_csv(\"../Resources/data/forms/movietitle_table.csv\",index=False)\n",
    "popular_table.to_csv(\"../Resources/data/forms/popular_table.csv\",index=False)\n",
    "revenue_table.to_csv(\"../Resources/data/forms/revenue_table.csv\",index=False)\n",
    "\n",
    "# Tableau Tables\n",
    "# ----------------------------------\n",
    "imdb_tableau.to_csv(\"../Resources/data/tableau/imdb_tableau.csv\",index=False)\n",
    "genre_tableau.to_csv(\"../Resources/data/tableau/genre_tableau.csv\",index=False)\n",
    "# cast_tableau.to_csv(\"../Resources/data/tableau/cast_tableau.csv\",index=False)\n",
    "country_tableau.to_csv(\"../Resources/data/tableau/country_tableau.csv\",index=False)\n",
    "company_tableau.to_csv(\"../Resources/data/tableau/company_tableau.csv\",index=False)"
   ]
  }
 ],
 "metadata": {
  "kernelspec": {
   "display_name": "Python 3",
   "language": "python",
   "name": "python3"
  },
  "language_info": {
   "codemirror_mode": {
    "name": "ipython",
    "version": 3
   },
   "file_extension": ".py",
   "mimetype": "text/x-python",
   "name": "python",
   "nbconvert_exporter": "python",
   "pygments_lexer": "ipython3",
   "version": "3.6.10"
  }
 },
 "nbformat": 4,
 "nbformat_minor": 5
}
