{
 "cells": [
  {
   "cell_type": "code",
   "execution_count": 23,
   "id": "77663081",
   "metadata": {},
   "outputs": [],
   "source": [
    "# Dependencies\n",
    "import requests\n",
    "# from config import api_key\n",
    "\n",
    "url = f\"https://api.themoviedb.org/3/movie/505?api_key=ac78f2036bcec95c7bda3c8c1b894fa6\""
   ]
  },
  {
   "cell_type": "code",
   "execution_count": 24,
   "id": "caf3f3ce",
   "metadata": {},
   "outputs": [
    {
     "data": {
      "text/plain": [
       "{'adult': False,\n",
       " 'backdrop_path': '/v7baGyne7CsLxnM2maMwIxKZdVF.jpg',\n",
       " 'belongs_to_collection': None,\n",
       " 'budget': 20000000,\n",
       " 'genres': [{'id': 80, 'name': 'Crime'}, {'id': 18, 'name': 'Drama'}],\n",
       " 'homepage': '',\n",
       " 'id': 505,\n",
       " 'imdb_id': 'tt0097626',\n",
       " 'original_language': 'en',\n",
       " 'original_title': 'Johnny Handsome',\n",
       " 'overview': 'A career criminal who has been deformed since birth is given a new face by a kindly doctor and paroled from prison. It appears that he has gone straight, but he is really planning his revenge on the man who killed his mentor and sent him to prison.',\n",
       " 'popularity': 7.172,\n",
       " 'poster_path': '/hdEIkpL17rvfZH0l34FJ8H9LAa.jpg',\n",
       " 'production_companies': [{'id': 276,\n",
       "   'logo_path': None,\n",
       "   'name': 'Guber/Peters Company',\n",
       "   'origin_country': ''},\n",
       "  {'id': 277,\n",
       "   'logo_path': None,\n",
       "   'name': 'Roven Productions',\n",
       "   'origin_country': ''},\n",
       "  {'id': 275,\n",
       "   'logo_path': '/2MxNWlN5b3UXt1OfmznsWEQzFwq.png',\n",
       "   'name': 'Carolco Pictures',\n",
       "   'origin_country': 'US'}],\n",
       " 'production_countries': [{'iso_3166_1': 'US',\n",
       "   'name': 'United States of America'}],\n",
       " 'release_date': '1989-09-12',\n",
       " 'revenue': 7237794,\n",
       " 'runtime': 94,\n",
       " 'spoken_languages': [{'english_name': 'English',\n",
       "   'iso_639_1': 'en',\n",
       "   'name': 'English'}],\n",
       " 'status': 'Released',\n",
       " 'tagline': \"They changed his looks, his life and his future... but they couldn't change his past .\",\n",
       " 'title': 'Johnny Handsome',\n",
       " 'video': False,\n",
       " 'vote_average': 6.3,\n",
       " 'vote_count': 158}"
      ]
     },
     "execution_count": 24,
     "metadata": {},
     "output_type": "execute_result"
    }
   ],
   "source": [
    "requests.get(url).json()"
   ]
  }
 ],
 "metadata": {
  "kernelspec": {
   "display_name": "Python 3",
   "language": "python",
   "name": "python3"
  },
  "language_info": {
   "codemirror_mode": {
    "name": "ipython",
    "version": 3
   },
   "file_extension": ".py",
   "mimetype": "text/x-python",
   "name": "python",
   "nbconvert_exporter": "python",
   "pygments_lexer": "ipython3",
   "version": "3.6.10"
  }
 },
 "nbformat": 4,
 "nbformat_minor": 5
}
